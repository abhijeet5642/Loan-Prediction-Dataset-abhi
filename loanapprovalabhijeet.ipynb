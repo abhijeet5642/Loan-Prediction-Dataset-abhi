{
  "nbformat": 4,
  "nbformat_minor": 0,
  "metadata": {
    "colab": {
      "provenance": [],
      "authorship_tag": "ABX9TyNkx/Izb7OK3mauLjCNFeWw",
      "include_colab_link": true
    },
    "kernelspec": {
      "name": "python3",
      "display_name": "Python 3"
    },
    "language_info": {
      "name": "python"
    }
  },
  "cells": [
    {
      "cell_type": "markdown",
      "metadata": {
        "id": "view-in-github",
        "colab_type": "text"
      },
      "source": [
        "<a href=\"https://colab.research.google.com/github/abhijeet5642/Loan-Prediction-Dataset-abhi/blob/master/loanapprovalabhijeet.ipynb\" target=\"_parent\"><img src=\"https://colab.research.google.com/assets/colab-badge.svg\" alt=\"Open In Colab\"/></a>"
      ]
    },
    {
      "cell_type": "code",
      "execution_count": null,
      "metadata": {
        "id": "o63zS2JsuU4f"
      },
      "outputs": [],
      "source": [
        "## install the libraries\n",
        "import pandas  as pd\n",
        "import numpy as np\n",
        "import seaborn as sns\n",
        "import matplotlib.pyplot as plt\n",
        "import warnings\n",
        "warnings.filterwarnings('ignore')\n",
        "\n",
        "%matplotlib inline"
      ]
    },
    {
      "cell_type": "code",
      "source": [
        "df = pd.read_csv('/content/Bank loan datasets - Sheet1.csv')\n",
        "df"
      ],
      "metadata": {
        "id": "hl7PjX1Rz6Ar",
        "colab": {
          "base_uri": "https://localhost:8080/",
          "height": 423
        },
        "outputId": "ae5ba3a7-8184-4129-d495-0605460f6a8f",
        "collapsed": true
      },
      "execution_count": null,
      "outputs": [
        {
          "output_type": "execute_result",
          "data": {
            "text/plain": [
              "     LP001002    Male   No   0      Graduate No.1  5849     0.1  Unnamed: 8  \\\n",
              "0    LP001003    Male  Yes   1      Graduate   No  4583  1508.0       128.0   \n",
              "1    LP001005    Male  Yes   0      Graduate  Yes  3000     0.0        66.0   \n",
              "2    LP001006    Male  Yes   0  Not Graduate   No  2583  2358.0       120.0   \n",
              "3    LP001008    Male   No   0      Graduate   No  6000     0.0       141.0   \n",
              "4    LP001011    Male  Yes   2      Graduate  Yes  5417  4196.0       267.0   \n",
              "..        ...     ...  ...  ..           ...  ...   ...     ...         ...   \n",
              "608  LP002978  Female   No   0      Graduate   No  2900     0.0        71.0   \n",
              "609  LP002979    Male  Yes  3+      Graduate   No  4106     0.0        40.0   \n",
              "610  LP002983    Male  Yes   1      Graduate   No  8072   240.0       253.0   \n",
              "611  LP002984    Male  Yes   2      Graduate   No  7583     0.0       187.0   \n",
              "612  LP002990  Female   No   0      Graduate  Yes  4583     0.0       133.0   \n",
              "\n",
              "       360    1      Urban  Y  \n",
              "0    360.0  1.0      Rural  N  \n",
              "1    360.0  1.0      Urban  Y  \n",
              "2    360.0  1.0      Urban  Y  \n",
              "3    360.0  1.0      Urban  Y  \n",
              "4    360.0  1.0      Urban  Y  \n",
              "..     ...  ...        ... ..  \n",
              "608  360.0  1.0      Rural  Y  \n",
              "609  180.0  1.0      Rural  Y  \n",
              "610  360.0  1.0      Urban  Y  \n",
              "611  360.0  1.0      Urban  Y  \n",
              "612  360.0  0.0  Semiurban  N  \n",
              "\n",
              "[613 rows x 13 columns]"
            ],
            "text/html": [
              "\n",
              "  <div id=\"df-3404b4ae-1e53-4e98-8c72-7f0fda046674\" class=\"colab-df-container\">\n",
              "    <div>\n",
              "<style scoped>\n",
              "    .dataframe tbody tr th:only-of-type {\n",
              "        vertical-align: middle;\n",
              "    }\n",
              "\n",
              "    .dataframe tbody tr th {\n",
              "        vertical-align: top;\n",
              "    }\n",
              "\n",
              "    .dataframe thead th {\n",
              "        text-align: right;\n",
              "    }\n",
              "</style>\n",
              "<table border=\"1\" class=\"dataframe\">\n",
              "  <thead>\n",
              "    <tr style=\"text-align: right;\">\n",
              "      <th></th>\n",
              "      <th>LP001002</th>\n",
              "      <th>Male</th>\n",
              "      <th>No</th>\n",
              "      <th>0</th>\n",
              "      <th>Graduate</th>\n",
              "      <th>No.1</th>\n",
              "      <th>5849</th>\n",
              "      <th>0.1</th>\n",
              "      <th>Unnamed: 8</th>\n",
              "      <th>360</th>\n",
              "      <th>1</th>\n",
              "      <th>Urban</th>\n",
              "      <th>Y</th>\n",
              "    </tr>\n",
              "  </thead>\n",
              "  <tbody>\n",
              "    <tr>\n",
              "      <th>0</th>\n",
              "      <td>LP001003</td>\n",
              "      <td>Male</td>\n",
              "      <td>Yes</td>\n",
              "      <td>1</td>\n",
              "      <td>Graduate</td>\n",
              "      <td>No</td>\n",
              "      <td>4583</td>\n",
              "      <td>1508.0</td>\n",
              "      <td>128.0</td>\n",
              "      <td>360.0</td>\n",
              "      <td>1.0</td>\n",
              "      <td>Rural</td>\n",
              "      <td>N</td>\n",
              "    </tr>\n",
              "    <tr>\n",
              "      <th>1</th>\n",
              "      <td>LP001005</td>\n",
              "      <td>Male</td>\n",
              "      <td>Yes</td>\n",
              "      <td>0</td>\n",
              "      <td>Graduate</td>\n",
              "      <td>Yes</td>\n",
              "      <td>3000</td>\n",
              "      <td>0.0</td>\n",
              "      <td>66.0</td>\n",
              "      <td>360.0</td>\n",
              "      <td>1.0</td>\n",
              "      <td>Urban</td>\n",
              "      <td>Y</td>\n",
              "    </tr>\n",
              "    <tr>\n",
              "      <th>2</th>\n",
              "      <td>LP001006</td>\n",
              "      <td>Male</td>\n",
              "      <td>Yes</td>\n",
              "      <td>0</td>\n",
              "      <td>Not Graduate</td>\n",
              "      <td>No</td>\n",
              "      <td>2583</td>\n",
              "      <td>2358.0</td>\n",
              "      <td>120.0</td>\n",
              "      <td>360.0</td>\n",
              "      <td>1.0</td>\n",
              "      <td>Urban</td>\n",
              "      <td>Y</td>\n",
              "    </tr>\n",
              "    <tr>\n",
              "      <th>3</th>\n",
              "      <td>LP001008</td>\n",
              "      <td>Male</td>\n",
              "      <td>No</td>\n",
              "      <td>0</td>\n",
              "      <td>Graduate</td>\n",
              "      <td>No</td>\n",
              "      <td>6000</td>\n",
              "      <td>0.0</td>\n",
              "      <td>141.0</td>\n",
              "      <td>360.0</td>\n",
              "      <td>1.0</td>\n",
              "      <td>Urban</td>\n",
              "      <td>Y</td>\n",
              "    </tr>\n",
              "    <tr>\n",
              "      <th>4</th>\n",
              "      <td>LP001011</td>\n",
              "      <td>Male</td>\n",
              "      <td>Yes</td>\n",
              "      <td>2</td>\n",
              "      <td>Graduate</td>\n",
              "      <td>Yes</td>\n",
              "      <td>5417</td>\n",
              "      <td>4196.0</td>\n",
              "      <td>267.0</td>\n",
              "      <td>360.0</td>\n",
              "      <td>1.0</td>\n",
              "      <td>Urban</td>\n",
              "      <td>Y</td>\n",
              "    </tr>\n",
              "    <tr>\n",
              "      <th>...</th>\n",
              "      <td>...</td>\n",
              "      <td>...</td>\n",
              "      <td>...</td>\n",
              "      <td>...</td>\n",
              "      <td>...</td>\n",
              "      <td>...</td>\n",
              "      <td>...</td>\n",
              "      <td>...</td>\n",
              "      <td>...</td>\n",
              "      <td>...</td>\n",
              "      <td>...</td>\n",
              "      <td>...</td>\n",
              "      <td>...</td>\n",
              "    </tr>\n",
              "    <tr>\n",
              "      <th>608</th>\n",
              "      <td>LP002978</td>\n",
              "      <td>Female</td>\n",
              "      <td>No</td>\n",
              "      <td>0</td>\n",
              "      <td>Graduate</td>\n",
              "      <td>No</td>\n",
              "      <td>2900</td>\n",
              "      <td>0.0</td>\n",
              "      <td>71.0</td>\n",
              "      <td>360.0</td>\n",
              "      <td>1.0</td>\n",
              "      <td>Rural</td>\n",
              "      <td>Y</td>\n",
              "    </tr>\n",
              "    <tr>\n",
              "      <th>609</th>\n",
              "      <td>LP002979</td>\n",
              "      <td>Male</td>\n",
              "      <td>Yes</td>\n",
              "      <td>3+</td>\n",
              "      <td>Graduate</td>\n",
              "      <td>No</td>\n",
              "      <td>4106</td>\n",
              "      <td>0.0</td>\n",
              "      <td>40.0</td>\n",
              "      <td>180.0</td>\n",
              "      <td>1.0</td>\n",
              "      <td>Rural</td>\n",
              "      <td>Y</td>\n",
              "    </tr>\n",
              "    <tr>\n",
              "      <th>610</th>\n",
              "      <td>LP002983</td>\n",
              "      <td>Male</td>\n",
              "      <td>Yes</td>\n",
              "      <td>1</td>\n",
              "      <td>Graduate</td>\n",
              "      <td>No</td>\n",
              "      <td>8072</td>\n",
              "      <td>240.0</td>\n",
              "      <td>253.0</td>\n",
              "      <td>360.0</td>\n",
              "      <td>1.0</td>\n",
              "      <td>Urban</td>\n",
              "      <td>Y</td>\n",
              "    </tr>\n",
              "    <tr>\n",
              "      <th>611</th>\n",
              "      <td>LP002984</td>\n",
              "      <td>Male</td>\n",
              "      <td>Yes</td>\n",
              "      <td>2</td>\n",
              "      <td>Graduate</td>\n",
              "      <td>No</td>\n",
              "      <td>7583</td>\n",
              "      <td>0.0</td>\n",
              "      <td>187.0</td>\n",
              "      <td>360.0</td>\n",
              "      <td>1.0</td>\n",
              "      <td>Urban</td>\n",
              "      <td>Y</td>\n",
              "    </tr>\n",
              "    <tr>\n",
              "      <th>612</th>\n",
              "      <td>LP002990</td>\n",
              "      <td>Female</td>\n",
              "      <td>No</td>\n",
              "      <td>0</td>\n",
              "      <td>Graduate</td>\n",
              "      <td>Yes</td>\n",
              "      <td>4583</td>\n",
              "      <td>0.0</td>\n",
              "      <td>133.0</td>\n",
              "      <td>360.0</td>\n",
              "      <td>0.0</td>\n",
              "      <td>Semiurban</td>\n",
              "      <td>N</td>\n",
              "    </tr>\n",
              "  </tbody>\n",
              "</table>\n",
              "<p>613 rows × 13 columns</p>\n",
              "</div>\n",
              "    <div class=\"colab-df-buttons\">\n",
              "\n",
              "  <div class=\"colab-df-container\">\n",
              "    <button class=\"colab-df-convert\" onclick=\"convertToInteractive('df-3404b4ae-1e53-4e98-8c72-7f0fda046674')\"\n",
              "            title=\"Convert this dataframe to an interactive table.\"\n",
              "            style=\"display:none;\">\n",
              "\n",
              "  <svg xmlns=\"http://www.w3.org/2000/svg\" height=\"24px\" viewBox=\"0 -960 960 960\">\n",
              "    <path d=\"M120-120v-720h720v720H120Zm60-500h600v-160H180v160Zm220 220h160v-160H400v160Zm0 220h160v-160H400v160ZM180-400h160v-160H180v160Zm440 0h160v-160H620v160ZM180-180h160v-160H180v160Zm440 0h160v-160H620v160Z\"/>\n",
              "  </svg>\n",
              "    </button>\n",
              "\n",
              "  <style>\n",
              "    .colab-df-container {\n",
              "      display:flex;\n",
              "      gap: 12px;\n",
              "    }\n",
              "\n",
              "    .colab-df-convert {\n",
              "      background-color: #E8F0FE;\n",
              "      border: none;\n",
              "      border-radius: 50%;\n",
              "      cursor: pointer;\n",
              "      display: none;\n",
              "      fill: #1967D2;\n",
              "      height: 32px;\n",
              "      padding: 0 0 0 0;\n",
              "      width: 32px;\n",
              "    }\n",
              "\n",
              "    .colab-df-convert:hover {\n",
              "      background-color: #E2EBFA;\n",
              "      box-shadow: 0px 1px 2px rgba(60, 64, 67, 0.3), 0px 1px 3px 1px rgba(60, 64, 67, 0.15);\n",
              "      fill: #174EA6;\n",
              "    }\n",
              "\n",
              "    .colab-df-buttons div {\n",
              "      margin-bottom: 4px;\n",
              "    }\n",
              "\n",
              "    [theme=dark] .colab-df-convert {\n",
              "      background-color: #3B4455;\n",
              "      fill: #D2E3FC;\n",
              "    }\n",
              "\n",
              "    [theme=dark] .colab-df-convert:hover {\n",
              "      background-color: #434B5C;\n",
              "      box-shadow: 0px 1px 3px 1px rgba(0, 0, 0, 0.15);\n",
              "      filter: drop-shadow(0px 1px 2px rgba(0, 0, 0, 0.3));\n",
              "      fill: #FFFFFF;\n",
              "    }\n",
              "  </style>\n",
              "\n",
              "    <script>\n",
              "      const buttonEl =\n",
              "        document.querySelector('#df-3404b4ae-1e53-4e98-8c72-7f0fda046674 button.colab-df-convert');\n",
              "      buttonEl.style.display =\n",
              "        google.colab.kernel.accessAllowed ? 'block' : 'none';\n",
              "\n",
              "      async function convertToInteractive(key) {\n",
              "        const element = document.querySelector('#df-3404b4ae-1e53-4e98-8c72-7f0fda046674');\n",
              "        const dataTable =\n",
              "          await google.colab.kernel.invokeFunction('convertToInteractive',\n",
              "                                                    [key], {});\n",
              "        if (!dataTable) return;\n",
              "\n",
              "        const docLinkHtml = 'Like what you see? Visit the ' +\n",
              "          '<a target=\"_blank\" href=https://colab.research.google.com/notebooks/data_table.ipynb>data table notebook</a>'\n",
              "          + ' to learn more about interactive tables.';\n",
              "        element.innerHTML = '';\n",
              "        dataTable['output_type'] = 'display_data';\n",
              "        await google.colab.output.renderOutput(dataTable, element);\n",
              "        const docLink = document.createElement('div');\n",
              "        docLink.innerHTML = docLinkHtml;\n",
              "        element.appendChild(docLink);\n",
              "      }\n",
              "    </script>\n",
              "  </div>\n",
              "\n",
              "\n",
              "<div id=\"df-802f72ec-883e-4a91-91ce-8d672db487f8\">\n",
              "  <button class=\"colab-df-quickchart\" onclick=\"quickchart('df-802f72ec-883e-4a91-91ce-8d672db487f8')\"\n",
              "            title=\"Suggest charts\"\n",
              "            style=\"display:none;\">\n",
              "\n",
              "<svg xmlns=\"http://www.w3.org/2000/svg\" height=\"24px\"viewBox=\"0 0 24 24\"\n",
              "     width=\"24px\">\n",
              "    <g>\n",
              "        <path d=\"M19 3H5c-1.1 0-2 .9-2 2v14c0 1.1.9 2 2 2h14c1.1 0 2-.9 2-2V5c0-1.1-.9-2-2-2zM9 17H7v-7h2v7zm4 0h-2V7h2v10zm4 0h-2v-4h2v4z\"/>\n",
              "    </g>\n",
              "</svg>\n",
              "  </button>\n",
              "\n",
              "<style>\n",
              "  .colab-df-quickchart {\n",
              "      --bg-color: #E8F0FE;\n",
              "      --fill-color: #1967D2;\n",
              "      --hover-bg-color: #E2EBFA;\n",
              "      --hover-fill-color: #174EA6;\n",
              "      --disabled-fill-color: #AAA;\n",
              "      --disabled-bg-color: #DDD;\n",
              "  }\n",
              "\n",
              "  [theme=dark] .colab-df-quickchart {\n",
              "      --bg-color: #3B4455;\n",
              "      --fill-color: #D2E3FC;\n",
              "      --hover-bg-color: #434B5C;\n",
              "      --hover-fill-color: #FFFFFF;\n",
              "      --disabled-bg-color: #3B4455;\n",
              "      --disabled-fill-color: #666;\n",
              "  }\n",
              "\n",
              "  .colab-df-quickchart {\n",
              "    background-color: var(--bg-color);\n",
              "    border: none;\n",
              "    border-radius: 50%;\n",
              "    cursor: pointer;\n",
              "    display: none;\n",
              "    fill: var(--fill-color);\n",
              "    height: 32px;\n",
              "    padding: 0;\n",
              "    width: 32px;\n",
              "  }\n",
              "\n",
              "  .colab-df-quickchart:hover {\n",
              "    background-color: var(--hover-bg-color);\n",
              "    box-shadow: 0 1px 2px rgba(60, 64, 67, 0.3), 0 1px 3px 1px rgba(60, 64, 67, 0.15);\n",
              "    fill: var(--button-hover-fill-color);\n",
              "  }\n",
              "\n",
              "  .colab-df-quickchart-complete:disabled,\n",
              "  .colab-df-quickchart-complete:disabled:hover {\n",
              "    background-color: var(--disabled-bg-color);\n",
              "    fill: var(--disabled-fill-color);\n",
              "    box-shadow: none;\n",
              "  }\n",
              "\n",
              "  .colab-df-spinner {\n",
              "    border: 2px solid var(--fill-color);\n",
              "    border-color: transparent;\n",
              "    border-bottom-color: var(--fill-color);\n",
              "    animation:\n",
              "      spin 1s steps(1) infinite;\n",
              "  }\n",
              "\n",
              "  @keyframes spin {\n",
              "    0% {\n",
              "      border-color: transparent;\n",
              "      border-bottom-color: var(--fill-color);\n",
              "      border-left-color: var(--fill-color);\n",
              "    }\n",
              "    20% {\n",
              "      border-color: transparent;\n",
              "      border-left-color: var(--fill-color);\n",
              "      border-top-color: var(--fill-color);\n",
              "    }\n",
              "    30% {\n",
              "      border-color: transparent;\n",
              "      border-left-color: var(--fill-color);\n",
              "      border-top-color: var(--fill-color);\n",
              "      border-right-color: var(--fill-color);\n",
              "    }\n",
              "    40% {\n",
              "      border-color: transparent;\n",
              "      border-right-color: var(--fill-color);\n",
              "      border-top-color: var(--fill-color);\n",
              "    }\n",
              "    60% {\n",
              "      border-color: transparent;\n",
              "      border-right-color: var(--fill-color);\n",
              "    }\n",
              "    80% {\n",
              "      border-color: transparent;\n",
              "      border-right-color: var(--fill-color);\n",
              "      border-bottom-color: var(--fill-color);\n",
              "    }\n",
              "    90% {\n",
              "      border-color: transparent;\n",
              "      border-bottom-color: var(--fill-color);\n",
              "    }\n",
              "  }\n",
              "</style>\n",
              "\n",
              "  <script>\n",
              "    async function quickchart(key) {\n",
              "      const quickchartButtonEl =\n",
              "        document.querySelector('#' + key + ' button');\n",
              "      quickchartButtonEl.disabled = true;  // To prevent multiple clicks.\n",
              "      quickchartButtonEl.classList.add('colab-df-spinner');\n",
              "      try {\n",
              "        const charts = await google.colab.kernel.invokeFunction(\n",
              "            'suggestCharts', [key], {});\n",
              "      } catch (error) {\n",
              "        console.error('Error during call to suggestCharts:', error);\n",
              "      }\n",
              "      quickchartButtonEl.classList.remove('colab-df-spinner');\n",
              "      quickchartButtonEl.classList.add('colab-df-quickchart-complete');\n",
              "    }\n",
              "    (() => {\n",
              "      let quickchartButtonEl =\n",
              "        document.querySelector('#df-802f72ec-883e-4a91-91ce-8d672db487f8 button');\n",
              "      quickchartButtonEl.style.display =\n",
              "        google.colab.kernel.accessAllowed ? 'block' : 'none';\n",
              "    })();\n",
              "  </script>\n",
              "</div>\n",
              "\n",
              "  <div id=\"id_1183c1bd-5184-4eb1-be4e-74f435003a04\">\n",
              "    <style>\n",
              "      .colab-df-generate {\n",
              "        background-color: #E8F0FE;\n",
              "        border: none;\n",
              "        border-radius: 50%;\n",
              "        cursor: pointer;\n",
              "        display: none;\n",
              "        fill: #1967D2;\n",
              "        height: 32px;\n",
              "        padding: 0 0 0 0;\n",
              "        width: 32px;\n",
              "      }\n",
              "\n",
              "      .colab-df-generate:hover {\n",
              "        background-color: #E2EBFA;\n",
              "        box-shadow: 0px 1px 2px rgba(60, 64, 67, 0.3), 0px 1px 3px 1px rgba(60, 64, 67, 0.15);\n",
              "        fill: #174EA6;\n",
              "      }\n",
              "\n",
              "      [theme=dark] .colab-df-generate {\n",
              "        background-color: #3B4455;\n",
              "        fill: #D2E3FC;\n",
              "      }\n",
              "\n",
              "      [theme=dark] .colab-df-generate:hover {\n",
              "        background-color: #434B5C;\n",
              "        box-shadow: 0px 1px 3px 1px rgba(0, 0, 0, 0.15);\n",
              "        filter: drop-shadow(0px 1px 2px rgba(0, 0, 0, 0.3));\n",
              "        fill: #FFFFFF;\n",
              "      }\n",
              "    </style>\n",
              "    <button class=\"colab-df-generate\" onclick=\"generateWithVariable('df')\"\n",
              "            title=\"Generate code using this dataframe.\"\n",
              "            style=\"display:none;\">\n",
              "\n",
              "  <svg xmlns=\"http://www.w3.org/2000/svg\" height=\"24px\"viewBox=\"0 0 24 24\"\n",
              "       width=\"24px\">\n",
              "    <path d=\"M7,19H8.4L18.45,9,17,7.55,7,17.6ZM5,21V16.75L18.45,3.32a2,2,0,0,1,2.83,0l1.4,1.43a1.91,1.91,0,0,1,.58,1.4,1.91,1.91,0,0,1-.58,1.4L9.25,21ZM18.45,9,17,7.55Zm-12,3A5.31,5.31,0,0,0,4.9,8.1,5.31,5.31,0,0,0,1,6.5,5.31,5.31,0,0,0,4.9,4.9,5.31,5.31,0,0,0,6.5,1,5.31,5.31,0,0,0,8.1,4.9,5.31,5.31,0,0,0,12,6.5,5.46,5.46,0,0,0,6.5,12Z\"/>\n",
              "  </svg>\n",
              "    </button>\n",
              "    <script>\n",
              "      (() => {\n",
              "      const buttonEl =\n",
              "        document.querySelector('#id_1183c1bd-5184-4eb1-be4e-74f435003a04 button.colab-df-generate');\n",
              "      buttonEl.style.display =\n",
              "        google.colab.kernel.accessAllowed ? 'block' : 'none';\n",
              "\n",
              "      buttonEl.onclick = () => {\n",
              "        google.colab.notebook.generateWithVariable('df');\n",
              "      }\n",
              "      })();\n",
              "    </script>\n",
              "  </div>\n",
              "\n",
              "    </div>\n",
              "  </div>\n"
            ],
            "application/vnd.google.colaboratory.intrinsic+json": {
              "type": "dataframe",
              "variable_name": "df",
              "summary": "{\n  \"name\": \"df\",\n  \"rows\": 613,\n  \"fields\": [\n    {\n      \"column\": \"LP001002\",\n      \"properties\": {\n        \"dtype\": \"string\",\n        \"num_unique_values\": 613,\n        \"samples\": [\n          \"LP002197\",\n          \"LP001350\",\n          \"LP001478\"\n        ],\n        \"semantic_type\": \"\",\n        \"description\": \"\"\n      }\n    },\n    {\n      \"column\": \"Male\",\n      \"properties\": {\n        \"dtype\": \"category\",\n        \"num_unique_values\": 2,\n        \"samples\": [\n          \"Female\",\n          \"Male\"\n        ],\n        \"semantic_type\": \"\",\n        \"description\": \"\"\n      }\n    },\n    {\n      \"column\": \"No\",\n      \"properties\": {\n        \"dtype\": \"category\",\n        \"num_unique_values\": 2,\n        \"samples\": [\n          \"No\",\n          \"Yes\"\n        ],\n        \"semantic_type\": \"\",\n        \"description\": \"\"\n      }\n    },\n    {\n      \"column\": \"0\",\n      \"properties\": {\n        \"dtype\": \"category\",\n        \"num_unique_values\": 4,\n        \"samples\": [\n          \"0\",\n          \"3+\"\n        ],\n        \"semantic_type\": \"\",\n        \"description\": \"\"\n      }\n    },\n    {\n      \"column\": \"Graduate\",\n      \"properties\": {\n        \"dtype\": \"category\",\n        \"num_unique_values\": 2,\n        \"samples\": [\n          \"Not Graduate\",\n          \"Graduate\"\n        ],\n        \"semantic_type\": \"\",\n        \"description\": \"\"\n      }\n    },\n    {\n      \"column\": \"No.1\",\n      \"properties\": {\n        \"dtype\": \"category\",\n        \"num_unique_values\": 2,\n        \"samples\": [\n          \"Yes\",\n          \"No\"\n        ],\n        \"semantic_type\": \"\",\n        \"description\": \"\"\n      }\n    },\n    {\n      \"column\": \"5849\",\n      \"properties\": {\n        \"dtype\": \"number\",\n        \"std\": 6114,\n        \"min\": 150,\n        \"max\": 81000,\n        \"num_unique_values\": 504,\n        \"samples\": [\n          1907,\n          3601\n        ],\n        \"semantic_type\": \"\",\n        \"description\": \"\"\n      }\n    },\n    {\n      \"column\": \"0.1\",\n      \"properties\": {\n        \"dtype\": \"number\",\n        \"std\": 2927.903583419698,\n        \"min\": 0.0,\n        \"max\": 41667.0,\n        \"num_unique_values\": 287,\n        \"samples\": [\n          1840.0,\n          2042.0\n        ],\n        \"semantic_type\": \"\",\n        \"description\": \"\"\n      }\n    },\n    {\n      \"column\": \"Unnamed: 8\",\n      \"properties\": {\n        \"dtype\": \"number\",\n        \"std\": 85.58732523570545,\n        \"min\": 9.0,\n        \"max\": 700.0,\n        \"num_unique_values\": 203,\n        \"samples\": [\n          100.0,\n          70.0\n        ],\n        \"semantic_type\": \"\",\n        \"description\": \"\"\n      }\n    },\n    {\n      \"column\": \"360\",\n      \"properties\": {\n        \"dtype\": \"number\",\n        \"std\": 65.17067198354458,\n        \"min\": 12.0,\n        \"max\": 480.0,\n        \"num_unique_values\": 10,\n        \"samples\": [\n          84.0,\n          120.0\n        ],\n        \"semantic_type\": \"\",\n        \"description\": \"\"\n      }\n    },\n    {\n      \"column\": \"1\",\n      \"properties\": {\n        \"dtype\": \"number\",\n        \"std\": 0.36514202433946646,\n        \"min\": 0.0,\n        \"max\": 1.0,\n        \"num_unique_values\": 2,\n        \"samples\": [\n          0.0,\n          1.0\n        ],\n        \"semantic_type\": \"\",\n        \"description\": \"\"\n      }\n    },\n    {\n      \"column\": \"Urban\",\n      \"properties\": {\n        \"dtype\": \"category\",\n        \"num_unique_values\": 3,\n        \"samples\": [\n          \"Rural\",\n          \"Urban\"\n        ],\n        \"semantic_type\": \"\",\n        \"description\": \"\"\n      }\n    },\n    {\n      \"column\": \"Y\",\n      \"properties\": {\n        \"dtype\": \"category\",\n        \"num_unique_values\": 2,\n        \"samples\": [\n          \"Y\",\n          \"N\"\n        ],\n        \"semantic_type\": \"\",\n        \"description\": \"\"\n      }\n    }\n  ]\n}"
            }
          },
          "metadata": {},
          "execution_count": 37
        }
      ]
    },
    {
      "cell_type": "code",
      "source": [
        "df.rename(columns={\n",
        "\"LP001002\": \"ID\",\n",
        "\"Male\" : \"Gender\",\n",
        "\"No\": \"Married\",\n",
        "\"0\": \"Dependent\",\n",
        "\"No.1\": \"Self Employed\",\n",
        "\"5849\": \"Applicant Income\",\n",
        "\"0.1\": \"Co applicant Income\",\n",
        "\"Unnamed: 8\": \"Loan Amount\",\n",
        "\"360\": \"Loan Amount Term\",\n",
        "\"1\": \"Credit History\",\n",
        "\"Urban\": \"Property Area\",\n",
        "\"Y\": \"Loan Status\"\n",
        "}, inplace=True)"
      ],
      "metadata": {
        "id": "TnJtfArN3VBs"
      },
      "execution_count": null,
      "outputs": []
    },
    {
      "cell_type": "code",
      "source": [
        "df.columns"
      ],
      "metadata": {
        "colab": {
          "base_uri": "https://localhost:8080/"
        },
        "id": "etNpsiTiYOni",
        "outputId": "e048dc4a-c1fd-4804-f356-7f1cbe539109"
      },
      "execution_count": null,
      "outputs": [
        {
          "output_type": "execute_result",
          "data": {
            "text/plain": [
              "Index(['ID', 'Gender', 'Married', 'Dependent', 'Graduate', 'Self Employed',\n",
              "       'Applicant Income', 'Co applicant Income', 'Loan Amount',\n",
              "       'Loan Amount Term', 'Credit History', 'Property Area', 'Loan Status'],\n",
              "      dtype='object')"
            ]
          },
          "metadata": {},
          "execution_count": 56
        }
      ]
    },
    {
      "cell_type": "code",
      "source": [
        "df.head(10)"
      ],
      "metadata": {
        "colab": {
          "base_uri": "https://localhost:8080/",
          "height": 363
        },
        "id": "YrcuzCNdW0-C",
        "outputId": "90ae1a77-c37e-4ce2-9fbc-f40030be33c8"
      },
      "execution_count": null,
      "outputs": [
        {
          "output_type": "execute_result",
          "data": {
            "text/plain": [
              "         ID Gender Married Dependent      Graduate Self Employed  \\\n",
              "0  LP001003   Male     Yes         1      Graduate            No   \n",
              "1  LP001005   Male     Yes         0      Graduate           Yes   \n",
              "2  LP001006   Male     Yes         0  Not Graduate            No   \n",
              "3  LP001008   Male      No         0      Graduate            No   \n",
              "4  LP001011   Male     Yes         2      Graduate           Yes   \n",
              "5  LP001013   Male     Yes         0  Not Graduate            No   \n",
              "6  LP001014   Male     Yes        3+      Graduate            No   \n",
              "7  LP001018   Male     Yes         2      Graduate            No   \n",
              "8  LP001020   Male     Yes         1      Graduate            No   \n",
              "9  LP001024   Male     Yes         2      Graduate            No   \n",
              "\n",
              "   Applicant Income  Co applicant Income  Loan Amount  Loan Amount Term  \\\n",
              "0              4583               1508.0        128.0             360.0   \n",
              "1              3000                  0.0         66.0             360.0   \n",
              "2              2583               2358.0        120.0             360.0   \n",
              "3              6000                  0.0        141.0             360.0   \n",
              "4              5417               4196.0        267.0             360.0   \n",
              "5              2333               1516.0         95.0             360.0   \n",
              "6              3036               2504.0        158.0             360.0   \n",
              "7              4006               1526.0        168.0             360.0   \n",
              "8             12841              10968.0        349.0             360.0   \n",
              "9              3200                700.0         70.0             360.0   \n",
              "\n",
              "   Credit History Property Area Loan Status  \n",
              "0             1.0         Rural           N  \n",
              "1             1.0         Urban           Y  \n",
              "2             1.0         Urban           Y  \n",
              "3             1.0         Urban           Y  \n",
              "4             1.0         Urban           Y  \n",
              "5             1.0         Urban           Y  \n",
              "6             0.0     Semiurban           N  \n",
              "7             1.0         Urban           Y  \n",
              "8             1.0     Semiurban           N  \n",
              "9             1.0         Urban           Y  "
            ],
            "text/html": [
              "\n",
              "  <div id=\"df-a0d4c160-51be-47d4-aff5-2da1bda03850\" class=\"colab-df-container\">\n",
              "    <div>\n",
              "<style scoped>\n",
              "    .dataframe tbody tr th:only-of-type {\n",
              "        vertical-align: middle;\n",
              "    }\n",
              "\n",
              "    .dataframe tbody tr th {\n",
              "        vertical-align: top;\n",
              "    }\n",
              "\n",
              "    .dataframe thead th {\n",
              "        text-align: right;\n",
              "    }\n",
              "</style>\n",
              "<table border=\"1\" class=\"dataframe\">\n",
              "  <thead>\n",
              "    <tr style=\"text-align: right;\">\n",
              "      <th></th>\n",
              "      <th>ID</th>\n",
              "      <th>Gender</th>\n",
              "      <th>Married</th>\n",
              "      <th>Dependent</th>\n",
              "      <th>Graduate</th>\n",
              "      <th>Self Employed</th>\n",
              "      <th>Applicant Income</th>\n",
              "      <th>Co applicant Income</th>\n",
              "      <th>Loan Amount</th>\n",
              "      <th>Loan Amount Term</th>\n",
              "      <th>Credit History</th>\n",
              "      <th>Property Area</th>\n",
              "      <th>Loan Status</th>\n",
              "    </tr>\n",
              "  </thead>\n",
              "  <tbody>\n",
              "    <tr>\n",
              "      <th>0</th>\n",
              "      <td>LP001003</td>\n",
              "      <td>Male</td>\n",
              "      <td>Yes</td>\n",
              "      <td>1</td>\n",
              "      <td>Graduate</td>\n",
              "      <td>No</td>\n",
              "      <td>4583</td>\n",
              "      <td>1508.0</td>\n",
              "      <td>128.0</td>\n",
              "      <td>360.0</td>\n",
              "      <td>1.0</td>\n",
              "      <td>Rural</td>\n",
              "      <td>N</td>\n",
              "    </tr>\n",
              "    <tr>\n",
              "      <th>1</th>\n",
              "      <td>LP001005</td>\n",
              "      <td>Male</td>\n",
              "      <td>Yes</td>\n",
              "      <td>0</td>\n",
              "      <td>Graduate</td>\n",
              "      <td>Yes</td>\n",
              "      <td>3000</td>\n",
              "      <td>0.0</td>\n",
              "      <td>66.0</td>\n",
              "      <td>360.0</td>\n",
              "      <td>1.0</td>\n",
              "      <td>Urban</td>\n",
              "      <td>Y</td>\n",
              "    </tr>\n",
              "    <tr>\n",
              "      <th>2</th>\n",
              "      <td>LP001006</td>\n",
              "      <td>Male</td>\n",
              "      <td>Yes</td>\n",
              "      <td>0</td>\n",
              "      <td>Not Graduate</td>\n",
              "      <td>No</td>\n",
              "      <td>2583</td>\n",
              "      <td>2358.0</td>\n",
              "      <td>120.0</td>\n",
              "      <td>360.0</td>\n",
              "      <td>1.0</td>\n",
              "      <td>Urban</td>\n",
              "      <td>Y</td>\n",
              "    </tr>\n",
              "    <tr>\n",
              "      <th>3</th>\n",
              "      <td>LP001008</td>\n",
              "      <td>Male</td>\n",
              "      <td>No</td>\n",
              "      <td>0</td>\n",
              "      <td>Graduate</td>\n",
              "      <td>No</td>\n",
              "      <td>6000</td>\n",
              "      <td>0.0</td>\n",
              "      <td>141.0</td>\n",
              "      <td>360.0</td>\n",
              "      <td>1.0</td>\n",
              "      <td>Urban</td>\n",
              "      <td>Y</td>\n",
              "    </tr>\n",
              "    <tr>\n",
              "      <th>4</th>\n",
              "      <td>LP001011</td>\n",
              "      <td>Male</td>\n",
              "      <td>Yes</td>\n",
              "      <td>2</td>\n",
              "      <td>Graduate</td>\n",
              "      <td>Yes</td>\n",
              "      <td>5417</td>\n",
              "      <td>4196.0</td>\n",
              "      <td>267.0</td>\n",
              "      <td>360.0</td>\n",
              "      <td>1.0</td>\n",
              "      <td>Urban</td>\n",
              "      <td>Y</td>\n",
              "    </tr>\n",
              "    <tr>\n",
              "      <th>5</th>\n",
              "      <td>LP001013</td>\n",
              "      <td>Male</td>\n",
              "      <td>Yes</td>\n",
              "      <td>0</td>\n",
              "      <td>Not Graduate</td>\n",
              "      <td>No</td>\n",
              "      <td>2333</td>\n",
              "      <td>1516.0</td>\n",
              "      <td>95.0</td>\n",
              "      <td>360.0</td>\n",
              "      <td>1.0</td>\n",
              "      <td>Urban</td>\n",
              "      <td>Y</td>\n",
              "    </tr>\n",
              "    <tr>\n",
              "      <th>6</th>\n",
              "      <td>LP001014</td>\n",
              "      <td>Male</td>\n",
              "      <td>Yes</td>\n",
              "      <td>3+</td>\n",
              "      <td>Graduate</td>\n",
              "      <td>No</td>\n",
              "      <td>3036</td>\n",
              "      <td>2504.0</td>\n",
              "      <td>158.0</td>\n",
              "      <td>360.0</td>\n",
              "      <td>0.0</td>\n",
              "      <td>Semiurban</td>\n",
              "      <td>N</td>\n",
              "    </tr>\n",
              "    <tr>\n",
              "      <th>7</th>\n",
              "      <td>LP001018</td>\n",
              "      <td>Male</td>\n",
              "      <td>Yes</td>\n",
              "      <td>2</td>\n",
              "      <td>Graduate</td>\n",
              "      <td>No</td>\n",
              "      <td>4006</td>\n",
              "      <td>1526.0</td>\n",
              "      <td>168.0</td>\n",
              "      <td>360.0</td>\n",
              "      <td>1.0</td>\n",
              "      <td>Urban</td>\n",
              "      <td>Y</td>\n",
              "    </tr>\n",
              "    <tr>\n",
              "      <th>8</th>\n",
              "      <td>LP001020</td>\n",
              "      <td>Male</td>\n",
              "      <td>Yes</td>\n",
              "      <td>1</td>\n",
              "      <td>Graduate</td>\n",
              "      <td>No</td>\n",
              "      <td>12841</td>\n",
              "      <td>10968.0</td>\n",
              "      <td>349.0</td>\n",
              "      <td>360.0</td>\n",
              "      <td>1.0</td>\n",
              "      <td>Semiurban</td>\n",
              "      <td>N</td>\n",
              "    </tr>\n",
              "    <tr>\n",
              "      <th>9</th>\n",
              "      <td>LP001024</td>\n",
              "      <td>Male</td>\n",
              "      <td>Yes</td>\n",
              "      <td>2</td>\n",
              "      <td>Graduate</td>\n",
              "      <td>No</td>\n",
              "      <td>3200</td>\n",
              "      <td>700.0</td>\n",
              "      <td>70.0</td>\n",
              "      <td>360.0</td>\n",
              "      <td>1.0</td>\n",
              "      <td>Urban</td>\n",
              "      <td>Y</td>\n",
              "    </tr>\n",
              "  </tbody>\n",
              "</table>\n",
              "</div>\n",
              "    <div class=\"colab-df-buttons\">\n",
              "\n",
              "  <div class=\"colab-df-container\">\n",
              "    <button class=\"colab-df-convert\" onclick=\"convertToInteractive('df-a0d4c160-51be-47d4-aff5-2da1bda03850')\"\n",
              "            title=\"Convert this dataframe to an interactive table.\"\n",
              "            style=\"display:none;\">\n",
              "\n",
              "  <svg xmlns=\"http://www.w3.org/2000/svg\" height=\"24px\" viewBox=\"0 -960 960 960\">\n",
              "    <path d=\"M120-120v-720h720v720H120Zm60-500h600v-160H180v160Zm220 220h160v-160H400v160Zm0 220h160v-160H400v160ZM180-400h160v-160H180v160Zm440 0h160v-160H620v160ZM180-180h160v-160H180v160Zm440 0h160v-160H620v160Z\"/>\n",
              "  </svg>\n",
              "    </button>\n",
              "\n",
              "  <style>\n",
              "    .colab-df-container {\n",
              "      display:flex;\n",
              "      gap: 12px;\n",
              "    }\n",
              "\n",
              "    .colab-df-convert {\n",
              "      background-color: #E8F0FE;\n",
              "      border: none;\n",
              "      border-radius: 50%;\n",
              "      cursor: pointer;\n",
              "      display: none;\n",
              "      fill: #1967D2;\n",
              "      height: 32px;\n",
              "      padding: 0 0 0 0;\n",
              "      width: 32px;\n",
              "    }\n",
              "\n",
              "    .colab-df-convert:hover {\n",
              "      background-color: #E2EBFA;\n",
              "      box-shadow: 0px 1px 2px rgba(60, 64, 67, 0.3), 0px 1px 3px 1px rgba(60, 64, 67, 0.15);\n",
              "      fill: #174EA6;\n",
              "    }\n",
              "\n",
              "    .colab-df-buttons div {\n",
              "      margin-bottom: 4px;\n",
              "    }\n",
              "\n",
              "    [theme=dark] .colab-df-convert {\n",
              "      background-color: #3B4455;\n",
              "      fill: #D2E3FC;\n",
              "    }\n",
              "\n",
              "    [theme=dark] .colab-df-convert:hover {\n",
              "      background-color: #434B5C;\n",
              "      box-shadow: 0px 1px 3px 1px rgba(0, 0, 0, 0.15);\n",
              "      filter: drop-shadow(0px 1px 2px rgba(0, 0, 0, 0.3));\n",
              "      fill: #FFFFFF;\n",
              "    }\n",
              "  </style>\n",
              "\n",
              "    <script>\n",
              "      const buttonEl =\n",
              "        document.querySelector('#df-a0d4c160-51be-47d4-aff5-2da1bda03850 button.colab-df-convert');\n",
              "      buttonEl.style.display =\n",
              "        google.colab.kernel.accessAllowed ? 'block' : 'none';\n",
              "\n",
              "      async function convertToInteractive(key) {\n",
              "        const element = document.querySelector('#df-a0d4c160-51be-47d4-aff5-2da1bda03850');\n",
              "        const dataTable =\n",
              "          await google.colab.kernel.invokeFunction('convertToInteractive',\n",
              "                                                    [key], {});\n",
              "        if (!dataTable) return;\n",
              "\n",
              "        const docLinkHtml = 'Like what you see? Visit the ' +\n",
              "          '<a target=\"_blank\" href=https://colab.research.google.com/notebooks/data_table.ipynb>data table notebook</a>'\n",
              "          + ' to learn more about interactive tables.';\n",
              "        element.innerHTML = '';\n",
              "        dataTable['output_type'] = 'display_data';\n",
              "        await google.colab.output.renderOutput(dataTable, element);\n",
              "        const docLink = document.createElement('div');\n",
              "        docLink.innerHTML = docLinkHtml;\n",
              "        element.appendChild(docLink);\n",
              "      }\n",
              "    </script>\n",
              "  </div>\n",
              "\n",
              "\n",
              "<div id=\"df-60fc7b41-c8f4-4b4e-8721-84045ee5e179\">\n",
              "  <button class=\"colab-df-quickchart\" onclick=\"quickchart('df-60fc7b41-c8f4-4b4e-8721-84045ee5e179')\"\n",
              "            title=\"Suggest charts\"\n",
              "            style=\"display:none;\">\n",
              "\n",
              "<svg xmlns=\"http://www.w3.org/2000/svg\" height=\"24px\"viewBox=\"0 0 24 24\"\n",
              "     width=\"24px\">\n",
              "    <g>\n",
              "        <path d=\"M19 3H5c-1.1 0-2 .9-2 2v14c0 1.1.9 2 2 2h14c1.1 0 2-.9 2-2V5c0-1.1-.9-2-2-2zM9 17H7v-7h2v7zm4 0h-2V7h2v10zm4 0h-2v-4h2v4z\"/>\n",
              "    </g>\n",
              "</svg>\n",
              "  </button>\n",
              "\n",
              "<style>\n",
              "  .colab-df-quickchart {\n",
              "      --bg-color: #E8F0FE;\n",
              "      --fill-color: #1967D2;\n",
              "      --hover-bg-color: #E2EBFA;\n",
              "      --hover-fill-color: #174EA6;\n",
              "      --disabled-fill-color: #AAA;\n",
              "      --disabled-bg-color: #DDD;\n",
              "  }\n",
              "\n",
              "  [theme=dark] .colab-df-quickchart {\n",
              "      --bg-color: #3B4455;\n",
              "      --fill-color: #D2E3FC;\n",
              "      --hover-bg-color: #434B5C;\n",
              "      --hover-fill-color: #FFFFFF;\n",
              "      --disabled-bg-color: #3B4455;\n",
              "      --disabled-fill-color: #666;\n",
              "  }\n",
              "\n",
              "  .colab-df-quickchart {\n",
              "    background-color: var(--bg-color);\n",
              "    border: none;\n",
              "    border-radius: 50%;\n",
              "    cursor: pointer;\n",
              "    display: none;\n",
              "    fill: var(--fill-color);\n",
              "    height: 32px;\n",
              "    padding: 0;\n",
              "    width: 32px;\n",
              "  }\n",
              "\n",
              "  .colab-df-quickchart:hover {\n",
              "    background-color: var(--hover-bg-color);\n",
              "    box-shadow: 0 1px 2px rgba(60, 64, 67, 0.3), 0 1px 3px 1px rgba(60, 64, 67, 0.15);\n",
              "    fill: var(--button-hover-fill-color);\n",
              "  }\n",
              "\n",
              "  .colab-df-quickchart-complete:disabled,\n",
              "  .colab-df-quickchart-complete:disabled:hover {\n",
              "    background-color: var(--disabled-bg-color);\n",
              "    fill: var(--disabled-fill-color);\n",
              "    box-shadow: none;\n",
              "  }\n",
              "\n",
              "  .colab-df-spinner {\n",
              "    border: 2px solid var(--fill-color);\n",
              "    border-color: transparent;\n",
              "    border-bottom-color: var(--fill-color);\n",
              "    animation:\n",
              "      spin 1s steps(1) infinite;\n",
              "  }\n",
              "\n",
              "  @keyframes spin {\n",
              "    0% {\n",
              "      border-color: transparent;\n",
              "      border-bottom-color: var(--fill-color);\n",
              "      border-left-color: var(--fill-color);\n",
              "    }\n",
              "    20% {\n",
              "      border-color: transparent;\n",
              "      border-left-color: var(--fill-color);\n",
              "      border-top-color: var(--fill-color);\n",
              "    }\n",
              "    30% {\n",
              "      border-color: transparent;\n",
              "      border-left-color: var(--fill-color);\n",
              "      border-top-color: var(--fill-color);\n",
              "      border-right-color: var(--fill-color);\n",
              "    }\n",
              "    40% {\n",
              "      border-color: transparent;\n",
              "      border-right-color: var(--fill-color);\n",
              "      border-top-color: var(--fill-color);\n",
              "    }\n",
              "    60% {\n",
              "      border-color: transparent;\n",
              "      border-right-color: var(--fill-color);\n",
              "    }\n",
              "    80% {\n",
              "      border-color: transparent;\n",
              "      border-right-color: var(--fill-color);\n",
              "      border-bottom-color: var(--fill-color);\n",
              "    }\n",
              "    90% {\n",
              "      border-color: transparent;\n",
              "      border-bottom-color: var(--fill-color);\n",
              "    }\n",
              "  }\n",
              "</style>\n",
              "\n",
              "  <script>\n",
              "    async function quickchart(key) {\n",
              "      const quickchartButtonEl =\n",
              "        document.querySelector('#' + key + ' button');\n",
              "      quickchartButtonEl.disabled = true;  // To prevent multiple clicks.\n",
              "      quickchartButtonEl.classList.add('colab-df-spinner');\n",
              "      try {\n",
              "        const charts = await google.colab.kernel.invokeFunction(\n",
              "            'suggestCharts', [key], {});\n",
              "      } catch (error) {\n",
              "        console.error('Error during call to suggestCharts:', error);\n",
              "      }\n",
              "      quickchartButtonEl.classList.remove('colab-df-spinner');\n",
              "      quickchartButtonEl.classList.add('colab-df-quickchart-complete');\n",
              "    }\n",
              "    (() => {\n",
              "      let quickchartButtonEl =\n",
              "        document.querySelector('#df-60fc7b41-c8f4-4b4e-8721-84045ee5e179 button');\n",
              "      quickchartButtonEl.style.display =\n",
              "        google.colab.kernel.accessAllowed ? 'block' : 'none';\n",
              "    })();\n",
              "  </script>\n",
              "</div>\n",
              "\n",
              "    </div>\n",
              "  </div>\n"
            ],
            "application/vnd.google.colaboratory.intrinsic+json": {
              "type": "dataframe",
              "variable_name": "df",
              "summary": "{\n  \"name\": \"df\",\n  \"rows\": 613,\n  \"fields\": [\n    {\n      \"column\": \"ID\",\n      \"properties\": {\n        \"dtype\": \"string\",\n        \"num_unique_values\": 613,\n        \"samples\": [\n          \"LP002197\",\n          \"LP001350\",\n          \"LP001478\"\n        ],\n        \"semantic_type\": \"\",\n        \"description\": \"\"\n      }\n    },\n    {\n      \"column\": \"Gender\",\n      \"properties\": {\n        \"dtype\": \"category\",\n        \"num_unique_values\": 2,\n        \"samples\": [\n          \"Female\",\n          \"Male\"\n        ],\n        \"semantic_type\": \"\",\n        \"description\": \"\"\n      }\n    },\n    {\n      \"column\": \"Married\",\n      \"properties\": {\n        \"dtype\": \"category\",\n        \"num_unique_values\": 2,\n        \"samples\": [\n          \"No\",\n          \"Yes\"\n        ],\n        \"semantic_type\": \"\",\n        \"description\": \"\"\n      }\n    },\n    {\n      \"column\": \"Dependent\",\n      \"properties\": {\n        \"dtype\": \"category\",\n        \"num_unique_values\": 4,\n        \"samples\": [\n          \"0\",\n          \"3+\"\n        ],\n        \"semantic_type\": \"\",\n        \"description\": \"\"\n      }\n    },\n    {\n      \"column\": \"Graduate\",\n      \"properties\": {\n        \"dtype\": \"category\",\n        \"num_unique_values\": 2,\n        \"samples\": [\n          \"Not Graduate\",\n          \"Graduate\"\n        ],\n        \"semantic_type\": \"\",\n        \"description\": \"\"\n      }\n    },\n    {\n      \"column\": \"Self Employed\",\n      \"properties\": {\n        \"dtype\": \"category\",\n        \"num_unique_values\": 2,\n        \"samples\": [\n          \"Yes\",\n          \"No\"\n        ],\n        \"semantic_type\": \"\",\n        \"description\": \"\"\n      }\n    },\n    {\n      \"column\": \"Applicant Income\",\n      \"properties\": {\n        \"dtype\": \"number\",\n        \"std\": 6114,\n        \"min\": 150,\n        \"max\": 81000,\n        \"num_unique_values\": 504,\n        \"samples\": [\n          1907,\n          3601\n        ],\n        \"semantic_type\": \"\",\n        \"description\": \"\"\n      }\n    },\n    {\n      \"column\": \"Co applicant Income\",\n      \"properties\": {\n        \"dtype\": \"number\",\n        \"std\": 2927.903583419698,\n        \"min\": 0.0,\n        \"max\": 41667.0,\n        \"num_unique_values\": 287,\n        \"samples\": [\n          1840.0,\n          2042.0\n        ],\n        \"semantic_type\": \"\",\n        \"description\": \"\"\n      }\n    },\n    {\n      \"column\": \"Loan Amount\",\n      \"properties\": {\n        \"dtype\": \"number\",\n        \"std\": 85.58732523570545,\n        \"min\": 9.0,\n        \"max\": 700.0,\n        \"num_unique_values\": 203,\n        \"samples\": [\n          100.0,\n          70.0\n        ],\n        \"semantic_type\": \"\",\n        \"description\": \"\"\n      }\n    },\n    {\n      \"column\": \"Loan Amount Term\",\n      \"properties\": {\n        \"dtype\": \"number\",\n        \"std\": 65.17067198354458,\n        \"min\": 12.0,\n        \"max\": 480.0,\n        \"num_unique_values\": 10,\n        \"samples\": [\n          84.0,\n          120.0\n        ],\n        \"semantic_type\": \"\",\n        \"description\": \"\"\n      }\n    },\n    {\n      \"column\": \"Credit History\",\n      \"properties\": {\n        \"dtype\": \"number\",\n        \"std\": 0.36514202433946646,\n        \"min\": 0.0,\n        \"max\": 1.0,\n        \"num_unique_values\": 2,\n        \"samples\": [\n          0.0,\n          1.0\n        ],\n        \"semantic_type\": \"\",\n        \"description\": \"\"\n      }\n    },\n    {\n      \"column\": \"Property Area\",\n      \"properties\": {\n        \"dtype\": \"category\",\n        \"num_unique_values\": 3,\n        \"samples\": [\n          \"Rural\",\n          \"Urban\"\n        ],\n        \"semantic_type\": \"\",\n        \"description\": \"\"\n      }\n    },\n    {\n      \"column\": \"Loan Status\",\n      \"properties\": {\n        \"dtype\": \"category\",\n        \"num_unique_values\": 2,\n        \"samples\": [\n          \"Y\",\n          \"N\"\n        ],\n        \"semantic_type\": \"\",\n        \"description\": \"\"\n      }\n    }\n  ]\n}"
            }
          },
          "metadata": {},
          "execution_count": 57
        }
      ]
    },
    {
      "cell_type": "code",
      "source": [
        "#checking the dimension of the dataset\n",
        "df.shape"
      ],
      "metadata": {
        "colab": {
          "base_uri": "https://localhost:8080/"
        },
        "id": "luWcJeIRxHJG",
        "outputId": "1f9560a9-eaee-4291-edf1-3ec8e7f1a476"
      },
      "execution_count": null,
      "outputs": [
        {
          "output_type": "execute_result",
          "data": {
            "text/plain": [
              "(613, 13)"
            ]
          },
          "metadata": {},
          "execution_count": 23
        }
      ]
    },
    {
      "cell_type": "markdown",
      "source": [
        "here we can see that in datasets there are 613 rows and 13 colums"
      ],
      "metadata": {
        "id": "_N1TC3zQ03Cd"
      }
    },
    {
      "cell_type": "code",
      "source": [
        "print(\"the dimension of the dataset:\",df.shape)\n",
        "print(\"the column headers:\",df.columns)"
      ],
      "metadata": {
        "colab": {
          "base_uri": "https://localhost:8080/"
        },
        "id": "BXdLpFVX1QKo",
        "outputId": "1f8773bb-9c9c-48fc-8a7d-fd69d7a45963"
      },
      "execution_count": null,
      "outputs": [
        {
          "output_type": "stream",
          "name": "stdout",
          "text": [
            "the dimension of the dataset: (613, 13)\n",
            "the column headers: Index(['ID', 'Gender', 'Married', 'Dependent', 'Graduate', 'Self Employed',\n",
            "       'Applicant Income', 'Co applicant Income', 'Loan Amount',\n",
            "       'Loan Amount Term', 'Credit History', 'Property Area', 'Loan Status'],\n",
            "      dtype='object')\n"
          ]
        }
      ]
    },
    {
      "cell_type": "code",
      "source": [
        "df.describe()"
      ],
      "metadata": {
        "colab": {
          "base_uri": "https://localhost:8080/",
          "height": 300
        },
        "id": "bI57mZHV1vxu",
        "outputId": "f4464093-416e-470b-f937-ee229709c941"
      },
      "execution_count": null,
      "outputs": [
        {
          "output_type": "execute_result",
          "data": {
            "text/plain": [
              "       Applicant Income  Co applicant Income  Loan Amount  Loan Amount Term  \\\n",
              "count        613.000000           613.000000   592.000000        599.000000   \n",
              "mean        5402.732463          1623.890571   146.412162        341.969950   \n",
              "std         6114.004114          2927.903583    85.587325         65.170672   \n",
              "min          150.000000             0.000000     9.000000         12.000000   \n",
              "25%         2876.000000             0.000000   100.000000        360.000000   \n",
              "50%         3812.000000          1210.000000   128.000000        360.000000   \n",
              "75%         5780.000000          2302.000000   168.000000        360.000000   \n",
              "max        81000.000000         41667.000000   700.000000        480.000000   \n",
              "\n",
              "       Credit History  \n",
              "count      563.000000  \n",
              "mean         0.841918  \n",
              "std          0.365142  \n",
              "min          0.000000  \n",
              "25%          1.000000  \n",
              "50%          1.000000  \n",
              "75%          1.000000  \n",
              "max          1.000000  "
            ],
            "text/html": [
              "\n",
              "  <div id=\"df-223a6156-eb24-4e0d-99f1-83c74f3174f1\" class=\"colab-df-container\">\n",
              "    <div>\n",
              "<style scoped>\n",
              "    .dataframe tbody tr th:only-of-type {\n",
              "        vertical-align: middle;\n",
              "    }\n",
              "\n",
              "    .dataframe tbody tr th {\n",
              "        vertical-align: top;\n",
              "    }\n",
              "\n",
              "    .dataframe thead th {\n",
              "        text-align: right;\n",
              "    }\n",
              "</style>\n",
              "<table border=\"1\" class=\"dataframe\">\n",
              "  <thead>\n",
              "    <tr style=\"text-align: right;\">\n",
              "      <th></th>\n",
              "      <th>Applicant Income</th>\n",
              "      <th>Co applicant Income</th>\n",
              "      <th>Loan Amount</th>\n",
              "      <th>Loan Amount Term</th>\n",
              "      <th>Credit History</th>\n",
              "    </tr>\n",
              "  </thead>\n",
              "  <tbody>\n",
              "    <tr>\n",
              "      <th>count</th>\n",
              "      <td>613.000000</td>\n",
              "      <td>613.000000</td>\n",
              "      <td>592.000000</td>\n",
              "      <td>599.000000</td>\n",
              "      <td>563.000000</td>\n",
              "    </tr>\n",
              "    <tr>\n",
              "      <th>mean</th>\n",
              "      <td>5402.732463</td>\n",
              "      <td>1623.890571</td>\n",
              "      <td>146.412162</td>\n",
              "      <td>341.969950</td>\n",
              "      <td>0.841918</td>\n",
              "    </tr>\n",
              "    <tr>\n",
              "      <th>std</th>\n",
              "      <td>6114.004114</td>\n",
              "      <td>2927.903583</td>\n",
              "      <td>85.587325</td>\n",
              "      <td>65.170672</td>\n",
              "      <td>0.365142</td>\n",
              "    </tr>\n",
              "    <tr>\n",
              "      <th>min</th>\n",
              "      <td>150.000000</td>\n",
              "      <td>0.000000</td>\n",
              "      <td>9.000000</td>\n",
              "      <td>12.000000</td>\n",
              "      <td>0.000000</td>\n",
              "    </tr>\n",
              "    <tr>\n",
              "      <th>25%</th>\n",
              "      <td>2876.000000</td>\n",
              "      <td>0.000000</td>\n",
              "      <td>100.000000</td>\n",
              "      <td>360.000000</td>\n",
              "      <td>1.000000</td>\n",
              "    </tr>\n",
              "    <tr>\n",
              "      <th>50%</th>\n",
              "      <td>3812.000000</td>\n",
              "      <td>1210.000000</td>\n",
              "      <td>128.000000</td>\n",
              "      <td>360.000000</td>\n",
              "      <td>1.000000</td>\n",
              "    </tr>\n",
              "    <tr>\n",
              "      <th>75%</th>\n",
              "      <td>5780.000000</td>\n",
              "      <td>2302.000000</td>\n",
              "      <td>168.000000</td>\n",
              "      <td>360.000000</td>\n",
              "      <td>1.000000</td>\n",
              "    </tr>\n",
              "    <tr>\n",
              "      <th>max</th>\n",
              "      <td>81000.000000</td>\n",
              "      <td>41667.000000</td>\n",
              "      <td>700.000000</td>\n",
              "      <td>480.000000</td>\n",
              "      <td>1.000000</td>\n",
              "    </tr>\n",
              "  </tbody>\n",
              "</table>\n",
              "</div>\n",
              "    <div class=\"colab-df-buttons\">\n",
              "\n",
              "  <div class=\"colab-df-container\">\n",
              "    <button class=\"colab-df-convert\" onclick=\"convertToInteractive('df-223a6156-eb24-4e0d-99f1-83c74f3174f1')\"\n",
              "            title=\"Convert this dataframe to an interactive table.\"\n",
              "            style=\"display:none;\">\n",
              "\n",
              "  <svg xmlns=\"http://www.w3.org/2000/svg\" height=\"24px\" viewBox=\"0 -960 960 960\">\n",
              "    <path d=\"M120-120v-720h720v720H120Zm60-500h600v-160H180v160Zm220 220h160v-160H400v160Zm0 220h160v-160H400v160ZM180-400h160v-160H180v160Zm440 0h160v-160H620v160ZM180-180h160v-160H180v160Zm440 0h160v-160H620v160Z\"/>\n",
              "  </svg>\n",
              "    </button>\n",
              "\n",
              "  <style>\n",
              "    .colab-df-container {\n",
              "      display:flex;\n",
              "      gap: 12px;\n",
              "    }\n",
              "\n",
              "    .colab-df-convert {\n",
              "      background-color: #E8F0FE;\n",
              "      border: none;\n",
              "      border-radius: 50%;\n",
              "      cursor: pointer;\n",
              "      display: none;\n",
              "      fill: #1967D2;\n",
              "      height: 32px;\n",
              "      padding: 0 0 0 0;\n",
              "      width: 32px;\n",
              "    }\n",
              "\n",
              "    .colab-df-convert:hover {\n",
              "      background-color: #E2EBFA;\n",
              "      box-shadow: 0px 1px 2px rgba(60, 64, 67, 0.3), 0px 1px 3px 1px rgba(60, 64, 67, 0.15);\n",
              "      fill: #174EA6;\n",
              "    }\n",
              "\n",
              "    .colab-df-buttons div {\n",
              "      margin-bottom: 4px;\n",
              "    }\n",
              "\n",
              "    [theme=dark] .colab-df-convert {\n",
              "      background-color: #3B4455;\n",
              "      fill: #D2E3FC;\n",
              "    }\n",
              "\n",
              "    [theme=dark] .colab-df-convert:hover {\n",
              "      background-color: #434B5C;\n",
              "      box-shadow: 0px 1px 3px 1px rgba(0, 0, 0, 0.15);\n",
              "      filter: drop-shadow(0px 1px 2px rgba(0, 0, 0, 0.3));\n",
              "      fill: #FFFFFF;\n",
              "    }\n",
              "  </style>\n",
              "\n",
              "    <script>\n",
              "      const buttonEl =\n",
              "        document.querySelector('#df-223a6156-eb24-4e0d-99f1-83c74f3174f1 button.colab-df-convert');\n",
              "      buttonEl.style.display =\n",
              "        google.colab.kernel.accessAllowed ? 'block' : 'none';\n",
              "\n",
              "      async function convertToInteractive(key) {\n",
              "        const element = document.querySelector('#df-223a6156-eb24-4e0d-99f1-83c74f3174f1');\n",
              "        const dataTable =\n",
              "          await google.colab.kernel.invokeFunction('convertToInteractive',\n",
              "                                                    [key], {});\n",
              "        if (!dataTable) return;\n",
              "\n",
              "        const docLinkHtml = 'Like what you see? Visit the ' +\n",
              "          '<a target=\"_blank\" href=https://colab.research.google.com/notebooks/data_table.ipynb>data table notebook</a>'\n",
              "          + ' to learn more about interactive tables.';\n",
              "        element.innerHTML = '';\n",
              "        dataTable['output_type'] = 'display_data';\n",
              "        await google.colab.output.renderOutput(dataTable, element);\n",
              "        const docLink = document.createElement('div');\n",
              "        docLink.innerHTML = docLinkHtml;\n",
              "        element.appendChild(docLink);\n",
              "      }\n",
              "    </script>\n",
              "  </div>\n",
              "\n",
              "\n",
              "<div id=\"df-f860392b-a4dd-41b0-9042-73ef943143c8\">\n",
              "  <button class=\"colab-df-quickchart\" onclick=\"quickchart('df-f860392b-a4dd-41b0-9042-73ef943143c8')\"\n",
              "            title=\"Suggest charts\"\n",
              "            style=\"display:none;\">\n",
              "\n",
              "<svg xmlns=\"http://www.w3.org/2000/svg\" height=\"24px\"viewBox=\"0 0 24 24\"\n",
              "     width=\"24px\">\n",
              "    <g>\n",
              "        <path d=\"M19 3H5c-1.1 0-2 .9-2 2v14c0 1.1.9 2 2 2h14c1.1 0 2-.9 2-2V5c0-1.1-.9-2-2-2zM9 17H7v-7h2v7zm4 0h-2V7h2v10zm4 0h-2v-4h2v4z\"/>\n",
              "    </g>\n",
              "</svg>\n",
              "  </button>\n",
              "\n",
              "<style>\n",
              "  .colab-df-quickchart {\n",
              "      --bg-color: #E8F0FE;\n",
              "      --fill-color: #1967D2;\n",
              "      --hover-bg-color: #E2EBFA;\n",
              "      --hover-fill-color: #174EA6;\n",
              "      --disabled-fill-color: #AAA;\n",
              "      --disabled-bg-color: #DDD;\n",
              "  }\n",
              "\n",
              "  [theme=dark] .colab-df-quickchart {\n",
              "      --bg-color: #3B4455;\n",
              "      --fill-color: #D2E3FC;\n",
              "      --hover-bg-color: #434B5C;\n",
              "      --hover-fill-color: #FFFFFF;\n",
              "      --disabled-bg-color: #3B4455;\n",
              "      --disabled-fill-color: #666;\n",
              "  }\n",
              "\n",
              "  .colab-df-quickchart {\n",
              "    background-color: var(--bg-color);\n",
              "    border: none;\n",
              "    border-radius: 50%;\n",
              "    cursor: pointer;\n",
              "    display: none;\n",
              "    fill: var(--fill-color);\n",
              "    height: 32px;\n",
              "    padding: 0;\n",
              "    width: 32px;\n",
              "  }\n",
              "\n",
              "  .colab-df-quickchart:hover {\n",
              "    background-color: var(--hover-bg-color);\n",
              "    box-shadow: 0 1px 2px rgba(60, 64, 67, 0.3), 0 1px 3px 1px rgba(60, 64, 67, 0.15);\n",
              "    fill: var(--button-hover-fill-color);\n",
              "  }\n",
              "\n",
              "  .colab-df-quickchart-complete:disabled,\n",
              "  .colab-df-quickchart-complete:disabled:hover {\n",
              "    background-color: var(--disabled-bg-color);\n",
              "    fill: var(--disabled-fill-color);\n",
              "    box-shadow: none;\n",
              "  }\n",
              "\n",
              "  .colab-df-spinner {\n",
              "    border: 2px solid var(--fill-color);\n",
              "    border-color: transparent;\n",
              "    border-bottom-color: var(--fill-color);\n",
              "    animation:\n",
              "      spin 1s steps(1) infinite;\n",
              "  }\n",
              "\n",
              "  @keyframes spin {\n",
              "    0% {\n",
              "      border-color: transparent;\n",
              "      border-bottom-color: var(--fill-color);\n",
              "      border-left-color: var(--fill-color);\n",
              "    }\n",
              "    20% {\n",
              "      border-color: transparent;\n",
              "      border-left-color: var(--fill-color);\n",
              "      border-top-color: var(--fill-color);\n",
              "    }\n",
              "    30% {\n",
              "      border-color: transparent;\n",
              "      border-left-color: var(--fill-color);\n",
              "      border-top-color: var(--fill-color);\n",
              "      border-right-color: var(--fill-color);\n",
              "    }\n",
              "    40% {\n",
              "      border-color: transparent;\n",
              "      border-right-color: var(--fill-color);\n",
              "      border-top-color: var(--fill-color);\n",
              "    }\n",
              "    60% {\n",
              "      border-color: transparent;\n",
              "      border-right-color: var(--fill-color);\n",
              "    }\n",
              "    80% {\n",
              "      border-color: transparent;\n",
              "      border-right-color: var(--fill-color);\n",
              "      border-bottom-color: var(--fill-color);\n",
              "    }\n",
              "    90% {\n",
              "      border-color: transparent;\n",
              "      border-bottom-color: var(--fill-color);\n",
              "    }\n",
              "  }\n",
              "</style>\n",
              "\n",
              "  <script>\n",
              "    async function quickchart(key) {\n",
              "      const quickchartButtonEl =\n",
              "        document.querySelector('#' + key + ' button');\n",
              "      quickchartButtonEl.disabled = true;  // To prevent multiple clicks.\n",
              "      quickchartButtonEl.classList.add('colab-df-spinner');\n",
              "      try {\n",
              "        const charts = await google.colab.kernel.invokeFunction(\n",
              "            'suggestCharts', [key], {});\n",
              "      } catch (error) {\n",
              "        console.error('Error during call to suggestCharts:', error);\n",
              "      }\n",
              "      quickchartButtonEl.classList.remove('colab-df-spinner');\n",
              "      quickchartButtonEl.classList.add('colab-df-quickchart-complete');\n",
              "    }\n",
              "    (() => {\n",
              "      let quickchartButtonEl =\n",
              "        document.querySelector('#df-f860392b-a4dd-41b0-9042-73ef943143c8 button');\n",
              "      quickchartButtonEl.style.display =\n",
              "        google.colab.kernel.accessAllowed ? 'block' : 'none';\n",
              "    })();\n",
              "  </script>\n",
              "</div>\n",
              "\n",
              "    </div>\n",
              "  </div>\n"
            ],
            "application/vnd.google.colaboratory.intrinsic+json": {
              "type": "dataframe",
              "summary": "{\n  \"name\": \"df\",\n  \"rows\": 8,\n  \"fields\": [\n    {\n      \"column\": \"Applicant Income\",\n      \"properties\": {\n        \"dtype\": \"number\",\n        \"std\": 27480.79064018542,\n        \"min\": 150.0,\n        \"max\": 81000.0,\n        \"num_unique_values\": 8,\n        \"samples\": [\n          5402.73246329527,\n          3812.0,\n          613.0\n        ],\n        \"semantic_type\": \"\",\n        \"description\": \"\"\n      }\n    },\n    {\n      \"column\": \"Co applicant Income\",\n      \"properties\": {\n        \"dtype\": \"number\",\n        \"std\": 14331.161854743994,\n        \"min\": 0.0,\n        \"max\": 41667.0,\n        \"num_unique_values\": 7,\n        \"samples\": [\n          613.0,\n          1623.8905709439475,\n          2302.0\n        ],\n        \"semantic_type\": \"\",\n        \"description\": \"\"\n      }\n    },\n    {\n      \"column\": \"Loan Amount\",\n      \"properties\": {\n        \"dtype\": \"number\",\n        \"std\": 256.0091610169859,\n        \"min\": 9.0,\n        \"max\": 700.0,\n        \"num_unique_values\": 8,\n        \"samples\": [\n          146.41216216216216,\n          128.0,\n          592.0\n        ],\n        \"semantic_type\": \"\",\n        \"description\": \"\"\n      }\n    },\n    {\n      \"column\": \"Loan Amount Term\",\n      \"properties\": {\n        \"dtype\": \"number\",\n        \"std\": 195.8441544575277,\n        \"min\": 12.0,\n        \"max\": 599.0,\n        \"num_unique_values\": 6,\n        \"samples\": [\n          599.0,\n          341.9699499165275,\n          480.0\n        ],\n        \"semantic_type\": \"\",\n        \"description\": \"\"\n      }\n    },\n    {\n      \"column\": \"Credit History\",\n      \"properties\": {\n        \"dtype\": \"number\",\n        \"std\": 198.7879107529075,\n        \"min\": 0.0,\n        \"max\": 563.0,\n        \"num_unique_values\": 5,\n        \"samples\": [\n          0.8419182948490231,\n          1.0,\n          0.36514202433946646\n        ],\n        \"semantic_type\": \"\",\n        \"description\": \"\"\n      }\n    }\n  ]\n}"
            }
          },
          "metadata": {},
          "execution_count": 59
        }
      ]
    },
    {
      "cell_type": "code",
      "source": [
        "#checking the types of column\n",
        "df.dtypes"
      ],
      "metadata": {
        "colab": {
          "base_uri": "https://localhost:8080/",
          "height": 491
        },
        "id": "z54Lz5U22E9R",
        "outputId": "688d35ed-5016-42d2-fac2-00e4a6966b57"
      },
      "execution_count": null,
      "outputs": [
        {
          "output_type": "execute_result",
          "data": {
            "text/plain": [
              "LP001002       object\n",
              "Male           object\n",
              "No             object\n",
              "0              object\n",
              "Graduate       object\n",
              "No.1           object\n",
              "5849            int64\n",
              "0.1           float64\n",
              "Unnamed: 8    float64\n",
              "360           float64\n",
              "1             float64\n",
              "Urban          object\n",
              "Y              object\n",
              "dtype: object"
            ],
            "text/html": [
              "<div>\n",
              "<style scoped>\n",
              "    .dataframe tbody tr th:only-of-type {\n",
              "        vertical-align: middle;\n",
              "    }\n",
              "\n",
              "    .dataframe tbody tr th {\n",
              "        vertical-align: top;\n",
              "    }\n",
              "\n",
              "    .dataframe thead th {\n",
              "        text-align: right;\n",
              "    }\n",
              "</style>\n",
              "<table border=\"1\" class=\"dataframe\">\n",
              "  <thead>\n",
              "    <tr style=\"text-align: right;\">\n",
              "      <th></th>\n",
              "      <th>0</th>\n",
              "    </tr>\n",
              "  </thead>\n",
              "  <tbody>\n",
              "    <tr>\n",
              "      <th>LP001002</th>\n",
              "      <td>object</td>\n",
              "    </tr>\n",
              "    <tr>\n",
              "      <th>Male</th>\n",
              "      <td>object</td>\n",
              "    </tr>\n",
              "    <tr>\n",
              "      <th>No</th>\n",
              "      <td>object</td>\n",
              "    </tr>\n",
              "    <tr>\n",
              "      <th>0</th>\n",
              "      <td>object</td>\n",
              "    </tr>\n",
              "    <tr>\n",
              "      <th>Graduate</th>\n",
              "      <td>object</td>\n",
              "    </tr>\n",
              "    <tr>\n",
              "      <th>No.1</th>\n",
              "      <td>object</td>\n",
              "    </tr>\n",
              "    <tr>\n",
              "      <th>5849</th>\n",
              "      <td>int64</td>\n",
              "    </tr>\n",
              "    <tr>\n",
              "      <th>0.1</th>\n",
              "      <td>float64</td>\n",
              "    </tr>\n",
              "    <tr>\n",
              "      <th>Unnamed: 8</th>\n",
              "      <td>float64</td>\n",
              "    </tr>\n",
              "    <tr>\n",
              "      <th>360</th>\n",
              "      <td>float64</td>\n",
              "    </tr>\n",
              "    <tr>\n",
              "      <th>1</th>\n",
              "      <td>float64</td>\n",
              "    </tr>\n",
              "    <tr>\n",
              "      <th>Urban</th>\n",
              "      <td>object</td>\n",
              "    </tr>\n",
              "    <tr>\n",
              "      <th>Y</th>\n",
              "      <td>object</td>\n",
              "    </tr>\n",
              "  </tbody>\n",
              "</table>\n",
              "</div><br><label><b>dtype:</b> object</label>"
            ]
          },
          "metadata": {},
          "execution_count": 46
        }
      ]
    },
    {
      "cell_type": "code",
      "source": [
        "df.isnull().sum()"
      ],
      "metadata": {
        "colab": {
          "base_uri": "https://localhost:8080/",
          "height": 491
        },
        "id": "gtq9GTfv2X88",
        "outputId": "b091c131-378c-4adb-b8aa-6bd1dd4ae02d"
      },
      "execution_count": null,
      "outputs": [
        {
          "output_type": "execute_result",
          "data": {
            "text/plain": [
              "ID                      0\n",
              "Gender                 13\n",
              "Married                 3\n",
              "Dependent              15\n",
              "Graduate                0\n",
              "Self Employed          32\n",
              "Applicant Income        0\n",
              "Co applicant Income     0\n",
              "Loan Amount            21\n",
              "Loan Amount Term       14\n",
              "Credit History         50\n",
              "Property Area           0\n",
              "Loan Status             0\n",
              "dtype: int64"
            ],
            "text/html": [
              "<div>\n",
              "<style scoped>\n",
              "    .dataframe tbody tr th:only-of-type {\n",
              "        vertical-align: middle;\n",
              "    }\n",
              "\n",
              "    .dataframe tbody tr th {\n",
              "        vertical-align: top;\n",
              "    }\n",
              "\n",
              "    .dataframe thead th {\n",
              "        text-align: right;\n",
              "    }\n",
              "</style>\n",
              "<table border=\"1\" class=\"dataframe\">\n",
              "  <thead>\n",
              "    <tr style=\"text-align: right;\">\n",
              "      <th></th>\n",
              "      <th>0</th>\n",
              "    </tr>\n",
              "  </thead>\n",
              "  <tbody>\n",
              "    <tr>\n",
              "      <th>ID</th>\n",
              "      <td>0</td>\n",
              "    </tr>\n",
              "    <tr>\n",
              "      <th>Gender</th>\n",
              "      <td>13</td>\n",
              "    </tr>\n",
              "    <tr>\n",
              "      <th>Married</th>\n",
              "      <td>3</td>\n",
              "    </tr>\n",
              "    <tr>\n",
              "      <th>Dependent</th>\n",
              "      <td>15</td>\n",
              "    </tr>\n",
              "    <tr>\n",
              "      <th>Graduate</th>\n",
              "      <td>0</td>\n",
              "    </tr>\n",
              "    <tr>\n",
              "      <th>Self Employed</th>\n",
              "      <td>32</td>\n",
              "    </tr>\n",
              "    <tr>\n",
              "      <th>Applicant Income</th>\n",
              "      <td>0</td>\n",
              "    </tr>\n",
              "    <tr>\n",
              "      <th>Co applicant Income</th>\n",
              "      <td>0</td>\n",
              "    </tr>\n",
              "    <tr>\n",
              "      <th>Loan Amount</th>\n",
              "      <td>21</td>\n",
              "    </tr>\n",
              "    <tr>\n",
              "      <th>Loan Amount Term</th>\n",
              "      <td>14</td>\n",
              "    </tr>\n",
              "    <tr>\n",
              "      <th>Credit History</th>\n",
              "      <td>50</td>\n",
              "    </tr>\n",
              "    <tr>\n",
              "      <th>Property Area</th>\n",
              "      <td>0</td>\n",
              "    </tr>\n",
              "    <tr>\n",
              "      <th>Loan Status</th>\n",
              "      <td>0</td>\n",
              "    </tr>\n",
              "  </tbody>\n",
              "</table>\n",
              "</div><br><label><b>dtype:</b> int64</label>"
            ]
          },
          "metadata": {},
          "execution_count": 60
        }
      ]
    },
    {
      "cell_type": "code",
      "source": [
        "#count values of each columns\n",
        "for i in df.columns:\n",
        "  print(df[i].value_counts())\n",
        "  print(\"\\n\")"
      ],
      "metadata": {
        "id": "YhlN6fMr2h9g",
        "colab": {
          "base_uri": "https://localhost:8080/"
        },
        "outputId": "acfbe954-468c-4198-f371-5e64b05e9bd1"
      },
      "execution_count": null,
      "outputs": [
        {
          "output_type": "stream",
          "name": "stdout",
          "text": [
            "ID\n",
            "LP001003    1\n",
            "LP002332    1\n",
            "LP002308    1\n",
            "LP002314    1\n",
            "LP002315    1\n",
            "           ..\n",
            "LP001693    1\n",
            "LP001698    1\n",
            "LP001699    1\n",
            "LP001702    1\n",
            "LP002990    1\n",
            "Name: count, Length: 613, dtype: int64\n",
            "\n",
            "\n",
            "Gender\n",
            "Male      488\n",
            "Female    112\n",
            "Name: count, dtype: int64\n",
            "\n",
            "\n",
            "Married\n",
            "Yes    398\n",
            "No     212\n",
            "Name: count, dtype: int64\n",
            "\n",
            "\n",
            "Dependent\n",
            "0     344\n",
            "1     102\n",
            "2     101\n",
            "3+     51\n",
            "Name: count, dtype: int64\n",
            "\n",
            "\n",
            "Graduate\n",
            "Graduate        479\n",
            "Not Graduate    134\n",
            "Name: count, dtype: int64\n",
            "\n",
            "\n",
            "Self Employed\n",
            "No     499\n",
            "Yes     82\n",
            "Name: count, dtype: int64\n",
            "\n",
            "\n",
            "Applicant Income\n",
            "2500    9\n",
            "4583    6\n",
            "2600    6\n",
            "6000    6\n",
            "5000    5\n",
            "       ..\n",
            "3244    1\n",
            "4408    1\n",
            "3917    1\n",
            "3992    1\n",
            "7583    1\n",
            "Name: count, Length: 504, dtype: int64\n",
            "\n",
            "\n",
            "Co applicant Income\n",
            "0.0       272\n",
            "2500.0      5\n",
            "2083.0      5\n",
            "1666.0      5\n",
            "1459.0      3\n",
            "         ... \n",
            "2791.0      1\n",
            "1010.0      1\n",
            "1695.0      1\n",
            "2598.0      1\n",
            "240.0       1\n",
            "Name: count, Length: 287, dtype: int64\n",
            "\n",
            "\n",
            "Loan Amount\n",
            "120.0    20\n",
            "110.0    17\n",
            "100.0    15\n",
            "160.0    12\n",
            "187.0    12\n",
            "         ..\n",
            "240.0     1\n",
            "214.0     1\n",
            "59.0      1\n",
            "166.0     1\n",
            "253.0     1\n",
            "Name: count, Length: 203, dtype: int64\n",
            "\n",
            "\n",
            "Loan Amount Term\n",
            "360.0    511\n",
            "180.0     44\n",
            "480.0     15\n",
            "300.0     13\n",
            "240.0      4\n",
            "84.0       4\n",
            "120.0      3\n",
            "60.0       2\n",
            "36.0       2\n",
            "12.0       1\n",
            "Name: count, dtype: int64\n",
            "\n",
            "\n",
            "Credit History\n",
            "1.0    474\n",
            "0.0     89\n",
            "Name: count, dtype: int64\n",
            "\n",
            "\n",
            "Property Area\n",
            "Semiurban    233\n",
            "Urban        201\n",
            "Rural        179\n",
            "Name: count, dtype: int64\n",
            "\n",
            "\n",
            "Loan Status\n",
            "Y    421\n",
            "N    192\n",
            "Name: count, dtype: int64\n",
            "\n",
            "\n"
          ]
        }
      ]
    },
    {
      "cell_type": "code",
      "source": [
        "#gender column\n",
        "df[\"Gender\"].fillna(\"Male\",inplace=True)"
      ],
      "metadata": {
        "id": "Swbhg0jPwH-Z"
      },
      "execution_count": null,
      "outputs": []
    },
    {
      "cell_type": "code",
      "source": [
        "#Married columns\n",
        "df[\"Married\"].fillna(\"Yes\",inplace=True)"
      ],
      "metadata": {
        "id": "5_A902f9wtH3"
      },
      "execution_count": null,
      "outputs": []
    },
    {
      "cell_type": "code",
      "source": [
        "#Dependent columns\n",
        "df[\"Dependent\"].fillna(0, inplace=True)"
      ],
      "metadata": {
        "id": "0sSB_ZHtw_g1"
      },
      "execution_count": null,
      "outputs": []
    },
    {
      "cell_type": "code",
      "source": [
        "#Self employed column\n",
        "df[\"Self Employed\"].fillna(\"No\", inplace=True)"
      ],
      "metadata": {
        "id": "nhQ1ML_1yEeR"
      },
      "execution_count": null,
      "outputs": []
    },
    {
      "cell_type": "code",
      "source": [
        "df['Loan Amount']=df['Loan Amount'].fillna(df['Loan Amount'].mean())"
      ],
      "metadata": {
        "id": "4I0-LJB90c4R"
      },
      "execution_count": null,
      "outputs": []
    },
    {
      "cell_type": "code",
      "source": [
        "#credit history\n",
        "df['Credit History'].fillna(1, inplace=True);"
      ],
      "metadata": {
        "id": "7ZF_em9u-CqB"
      },
      "execution_count": null,
      "outputs": []
    },
    {
      "cell_type": "code",
      "source": [
        "#filling null values in loan amount with its mean\n",
        "df['Loan Amount Term']=df['Loan Amount Term'].fillna(df['Loan Amount Term'].mean())"
      ],
      "metadata": {
        "id": "PV1qW8f30kGp"
      },
      "execution_count": null,
      "outputs": []
    },
    {
      "cell_type": "code",
      "source": [
        "#now again checking null values in this dataset\n",
        "df.isnull().sum()"
      ],
      "metadata": {
        "colab": {
          "base_uri": "https://localhost:8080/",
          "height": 491
        },
        "id": "_dWpCfGj8w12",
        "outputId": "a51c14fd-7bc9-4b59-f6f3-c4eb94c38f28"
      },
      "execution_count": null,
      "outputs": [
        {
          "output_type": "execute_result",
          "data": {
            "text/plain": [
              "ID                     0\n",
              "Gender                 0\n",
              "Married                0\n",
              "Dependent              0\n",
              "Graduate               0\n",
              "Self Employed          0\n",
              "Applicant Income       0\n",
              "Co applicant Income    0\n",
              "Loan Amount            0\n",
              "Loan Amount Term       0\n",
              "Credit History         0\n",
              "Property Area          0\n",
              "Loan Status            0\n",
              "dtype: int64"
            ],
            "text/html": [
              "<div>\n",
              "<style scoped>\n",
              "    .dataframe tbody tr th:only-of-type {\n",
              "        vertical-align: middle;\n",
              "    }\n",
              "\n",
              "    .dataframe tbody tr th {\n",
              "        vertical-align: top;\n",
              "    }\n",
              "\n",
              "    .dataframe thead th {\n",
              "        text-align: right;\n",
              "    }\n",
              "</style>\n",
              "<table border=\"1\" class=\"dataframe\">\n",
              "  <thead>\n",
              "    <tr style=\"text-align: right;\">\n",
              "      <th></th>\n",
              "      <th>0</th>\n",
              "    </tr>\n",
              "  </thead>\n",
              "  <tbody>\n",
              "    <tr>\n",
              "      <th>ID</th>\n",
              "      <td>0</td>\n",
              "    </tr>\n",
              "    <tr>\n",
              "      <th>Gender</th>\n",
              "      <td>0</td>\n",
              "    </tr>\n",
              "    <tr>\n",
              "      <th>Married</th>\n",
              "      <td>0</td>\n",
              "    </tr>\n",
              "    <tr>\n",
              "      <th>Dependent</th>\n",
              "      <td>0</td>\n",
              "    </tr>\n",
              "    <tr>\n",
              "      <th>Graduate</th>\n",
              "      <td>0</td>\n",
              "    </tr>\n",
              "    <tr>\n",
              "      <th>Self Employed</th>\n",
              "      <td>0</td>\n",
              "    </tr>\n",
              "    <tr>\n",
              "      <th>Applicant Income</th>\n",
              "      <td>0</td>\n",
              "    </tr>\n",
              "    <tr>\n",
              "      <th>Co applicant Income</th>\n",
              "      <td>0</td>\n",
              "    </tr>\n",
              "    <tr>\n",
              "      <th>Loan Amount</th>\n",
              "      <td>0</td>\n",
              "    </tr>\n",
              "    <tr>\n",
              "      <th>Loan Amount Term</th>\n",
              "      <td>0</td>\n",
              "    </tr>\n",
              "    <tr>\n",
              "      <th>Credit History</th>\n",
              "      <td>0</td>\n",
              "    </tr>\n",
              "    <tr>\n",
              "      <th>Property Area</th>\n",
              "      <td>0</td>\n",
              "    </tr>\n",
              "    <tr>\n",
              "      <th>Loan Status</th>\n",
              "      <td>0</td>\n",
              "    </tr>\n",
              "  </tbody>\n",
              "</table>\n",
              "</div><br><label><b>dtype:</b> int64</label>"
            ]
          },
          "metadata": {},
          "execution_count": 69
        }
      ]
    },
    {
      "cell_type": "code",
      "source": [
        "sns.heatmap(df.isnull());"
      ],
      "metadata": {
        "id": "TLdbjPGN9AaX",
        "colab": {
          "base_uri": "https://localhost:8080/",
          "height": 565
        },
        "outputId": "00bab853-5803-42e7-f543-3f163060544e"
      },
      "execution_count": null,
      "outputs": [
        {
          "output_type": "display_data",
          "data": {
            "text/plain": [
              "<Figure size 640x480 with 2 Axes>"
            ],
            "image/png": "[encoded data removed]"
          },
          "metadata": {}
        }
      ]
    },
    {
      "cell_type": "markdown",
      "source": [
        "Exploratory data analysis"
      ],
      "metadata": {
        "id": "8S_tLR_0_Ez-"
      }
    },
    {
      "cell_type": "code",
      "source": [
        "df.drop([\"ID\"],axis=1, inplace = True)"
      ],
      "metadata": {
        "id": "ODL_NYk5_Qdv"
      },
      "execution_count": null,
      "outputs": []
    },
    {
      "cell_type": "code",
      "source": [
        "#now separating categorical columns and numerical columns\n",
        "categorical_col=[]\n",
        "for i in df.dtypes.index:\n",
        "    if df.dtypes[i]=='object':\n",
        "        categorical_col.append(i)\n",
        "\n",
        "\n",
        "        #print value\n",
        "        print(\"categorical columns:\",categorical_col)\n",
        "\n",
        "\n",
        "\n",
        "\n",
        "numerical_col=[]\n",
        "for i in df.dtypes.index:\n",
        "    if df.dtypes[i]!='object':\n",
        "        numerical_col.append(i)\n",
        "\n",
        "         #print value\n",
        "        print(\"numerical columns:\",numerical_col)\n"
      ],
      "metadata": {
        "colab": {
          "base_uri": "https://localhost:8080/"
        },
        "id": "BKis0WmrAJ_V",
        "outputId": "496baa5e-b851-4341-b73e-c96112905583"
      },
      "execution_count": null,
      "outputs": [
        {
          "output_type": "stream",
          "name": "stdout",
          "text": [
            "categorical columns: ['Gender']\n",
            "categorical columns: ['Gender', 'Married']\n",
            "categorical columns: ['Gender', 'Married', 'Dependent']\n",
            "categorical columns: ['Gender', 'Married', 'Dependent', 'Graduate']\n",
            "categorical columns: ['Gender', 'Married', 'Dependent', 'Graduate', 'Self Employed']\n",
            "categorical columns: ['Gender', 'Married', 'Dependent', 'Graduate', 'Self Employed', 'Property Area']\n",
            "categorical columns: ['Gender', 'Married', 'Dependent', 'Graduate', 'Self Employed', 'Property Area', 'Loan Status']\n",
            "numerical columns: ['Applicant Income']\n",
            "numerical columns: ['Applicant Income', 'Co applicant Income']\n",
            "numerical columns: ['Applicant Income', 'Co applicant Income', 'Loan Amount']\n",
            "numerical columns: ['Applicant Income', 'Co applicant Income', 'Loan Amount', 'Loan Amount Term']\n",
            "numerical columns: ['Applicant Income', 'Co applicant Income', 'Loan Amount', 'Loan Amount Term', 'Credit History']\n"
          ]
        }
      ]
    },
    {
      "cell_type": "code",
      "source": [
        "#now checking the unique value\n",
        "df.nunique().to_frame(' NO OF unique  VALUES' )"
      ],
      "metadata": {
        "colab": {
          "base_uri": "https://localhost:8080/",
          "height": 425
        },
        "id": "S8rW101CDhPb",
        "outputId": "efc17b89-b1e1-4a2d-86ab-b7656c03d9db"
      },
      "execution_count": null,
      "outputs": [
        {
          "output_type": "execute_result",
          "data": {
            "text/plain": [
              "                     NO OF unique  VALUES\n",
              "Gender                                  2\n",
              "Married                                 2\n",
              "Dependent                               5\n",
              "Graduate                                2\n",
              "Self Employed                           2\n",
              "Applicant Income                      504\n",
              "Co applicant Income                   287\n",
              "Loan Amount                           204\n",
              "Loan Amount Term                       11\n",
              "Credit History                          2\n",
              "Property Area                           3\n",
              "Loan Status                             2"
            ],
            "text/html": [
              "\n",
              "  <div id=\"df-912f8150-f64a-48e1-98b1-78df13784acc\" class=\"colab-df-container\">\n",
              "    <div>\n",
              "<style scoped>\n",
              "    .dataframe tbody tr th:only-of-type {\n",
              "        vertical-align: middle;\n",
              "    }\n",
              "\n",
              "    .dataframe tbody tr th {\n",
              "        vertical-align: top;\n",
              "    }\n",
              "\n",
              "    .dataframe thead th {\n",
              "        text-align: right;\n",
              "    }\n",
              "</style>\n",
              "<table border=\"1\" class=\"dataframe\">\n",
              "  <thead>\n",
              "    <tr style=\"text-align: right;\">\n",
              "      <th></th>\n",
              "      <th>NO OF unique  VALUES</th>\n",
              "    </tr>\n",
              "  </thead>\n",
              "  <tbody>\n",
              "    <tr>\n",
              "      <th>Gender</th>\n",
              "      <td>2</td>\n",
              "    </tr>\n",
              "    <tr>\n",
              "      <th>Married</th>\n",
              "      <td>2</td>\n",
              "    </tr>\n",
              "    <tr>\n",
              "      <th>Dependent</th>\n",
              "      <td>5</td>\n",
              "    </tr>\n",
              "    <tr>\n",
              "      <th>Graduate</th>\n",
              "      <td>2</td>\n",
              "    </tr>\n",
              "    <tr>\n",
              "      <th>Self Employed</th>\n",
              "      <td>2</td>\n",
              "    </tr>\n",
              "    <tr>\n",
              "      <th>Applicant Income</th>\n",
              "      <td>504</td>\n",
              "    </tr>\n",
              "    <tr>\n",
              "      <th>Co applicant Income</th>\n",
              "      <td>287</td>\n",
              "    </tr>\n",
              "    <tr>\n",
              "      <th>Loan Amount</th>\n",
              "      <td>204</td>\n",
              "    </tr>\n",
              "    <tr>\n",
              "      <th>Loan Amount Term</th>\n",
              "      <td>11</td>\n",
              "    </tr>\n",
              "    <tr>\n",
              "      <th>Credit History</th>\n",
              "      <td>2</td>\n",
              "    </tr>\n",
              "    <tr>\n",
              "      <th>Property Area</th>\n",
              "      <td>3</td>\n",
              "    </tr>\n",
              "    <tr>\n",
              "      <th>Loan Status</th>\n",
              "      <td>2</td>\n",
              "    </tr>\n",
              "  </tbody>\n",
              "</table>\n",
              "</div>\n",
              "    <div class=\"colab-df-buttons\">\n",
              "\n",
              "  <div class=\"colab-df-container\">\n",
              "    <button class=\"colab-df-convert\" onclick=\"convertToInteractive('df-912f8150-f64a-48e1-98b1-78df13784acc')\"\n",
              "            title=\"Convert this dataframe to an interactive table.\"\n",
              "            style=\"display:none;\">\n",
              "\n",
              "  <svg xmlns=\"http://www.w3.org/2000/svg\" height=\"24px\" viewBox=\"0 -960 960 960\">\n",
              "    <path d=\"M120-120v-720h720v720H120Zm60-500h600v-160H180v160Zm220 220h160v-160H400v160Zm0 220h160v-160H400v160ZM180-400h160v-160H180v160Zm440 0h160v-160H620v160ZM180-180h160v-160H180v160Zm440 0h160v-160H620v160Z\"/>\n",
              "  </svg>\n",
              "    </button>\n",
              "\n",
              "  <style>\n",
              "    .colab-df-container {\n",
              "      display:flex;\n",
              "      gap: 12px;\n",
              "    }\n",
              "\n",
              "    .colab-df-convert {\n",
              "      background-color: #E8F0FE;\n",
              "      border: none;\n",
              "      border-radius: 50%;\n",
              "      cursor: pointer;\n",
              "      display: none;\n",
              "      fill: #1967D2;\n",
              "      height: 32px;\n",
              "      padding: 0 0 0 0;\n",
              "      width: 32px;\n",
              "    }\n",
              "\n",
              "    .colab-df-convert:hover {\n",
              "      background-color: #E2EBFA;\n",
              "      box-shadow: 0px 1px 2px rgba(60, 64, 67, 0.3), 0px 1px 3px 1px rgba(60, 64, 67, 0.15);\n",
              "      fill: #174EA6;\n",
              "    }\n",
              "\n",
              "    .colab-df-buttons div {\n",
              "      margin-bottom: 4px;\n",
              "    }\n",
              "\n",
              "    [theme=dark] .colab-df-convert {\n",
              "      background-color: #3B4455;\n",
              "      fill: #D2E3FC;\n",
              "    }\n",
              "\n",
              "    [theme=dark] .colab-df-convert:hover {\n",
              "      background-color: #434B5C;\n",
              "      box-shadow: 0px 1px 3px 1px rgba(0, 0, 0, 0.15);\n",
              "      filter: drop-shadow(0px 1px 2px rgba(0, 0, 0, 0.3));\n",
              "      fill: #FFFFFF;\n",
              "    }\n",
              "  </style>\n",
              "\n",
              "    <script>\n",
              "      const buttonEl =\n",
              "        document.querySelector('#df-912f8150-f64a-48e1-98b1-78df13784acc button.colab-df-convert');\n",
              "      buttonEl.style.display =\n",
              "        google.colab.kernel.accessAllowed ? 'block' : 'none';\n",
              "\n",
              "      async function convertToInteractive(key) {\n",
              "        const element = document.querySelector('#df-912f8150-f64a-48e1-98b1-78df13784acc');\n",
              "        const dataTable =\n",
              "          await google.colab.kernel.invokeFunction('convertToInteractive',\n",
              "                                                    [key], {});\n",
              "        if (!dataTable) return;\n",
              "\n",
              "        const docLinkHtml = 'Like what you see? Visit the ' +\n",
              "          '<a target=\"_blank\" href=https://colab.research.google.com/notebooks/data_table.ipynb>data table notebook</a>'\n",
              "          + ' to learn more about interactive tables.';\n",
              "        element.innerHTML = '';\n",
              "        dataTable['output_type'] = 'display_data';\n",
              "        await google.colab.output.renderOutput(dataTable, element);\n",
              "        const docLink = document.createElement('div');\n",
              "        docLink.innerHTML = docLinkHtml;\n",
              "        element.appendChild(docLink);\n",
              "      }\n",
              "    </script>\n",
              "  </div>\n",
              "\n",
              "\n",
              "<div id=\"df-1347854d-d3f3-4827-8099-47a372db6938\">\n",
              "  <button class=\"colab-df-quickchart\" onclick=\"quickchart('df-1347854d-d3f3-4827-8099-47a372db6938')\"\n",
              "            title=\"Suggest charts\"\n",
              "            style=\"display:none;\">\n",
              "\n",
              "<svg xmlns=\"http://www.w3.org/2000/svg\" height=\"24px\"viewBox=\"0 0 24 24\"\n",
              "     width=\"24px\">\n",
              "    <g>\n",
              "        <path d=\"M19 3H5c-1.1 0-2 .9-2 2v14c0 1.1.9 2 2 2h14c1.1 0 2-.9 2-2V5c0-1.1-.9-2-2-2zM9 17H7v-7h2v7zm4 0h-2V7h2v10zm4 0h-2v-4h2v4z\"/>\n",
              "    </g>\n",
              "</svg>\n",
              "  </button>\n",
              "\n",
              "<style>\n",
              "  .colab-df-quickchart {\n",
              "      --bg-color: #E8F0FE;\n",
              "      --fill-color: #1967D2;\n",
              "      --hover-bg-color: #E2EBFA;\n",
              "      --hover-fill-color: #174EA6;\n",
              "      --disabled-fill-color: #AAA;\n",
              "      --disabled-bg-color: #DDD;\n",
              "  }\n",
              "\n",
              "  [theme=dark] .colab-df-quickchart {\n",
              "      --bg-color: #3B4455;\n",
              "      --fill-color: #D2E3FC;\n",
              "      --hover-bg-color: #434B5C;\n",
              "      --hover-fill-color: #FFFFFF;\n",
              "      --disabled-bg-color: #3B4455;\n",
              "      --disabled-fill-color: #666;\n",
              "  }\n",
              "\n",
              "  .colab-df-quickchart {\n",
              "    background-color: var(--bg-color);\n",
              "    border: none;\n",
              "    border-radius: 50%;\n",
              "    cursor: pointer;\n",
              "    display: none;\n",
              "    fill: var(--fill-color);\n",
              "    height: 32px;\n",
              "    padding: 0;\n",
              "    width: 32px;\n",
              "  }\n",
              "\n",
              "  .colab-df-quickchart:hover {\n",
              "    background-color: var(--hover-bg-color);\n",
              "    box-shadow: 0 1px 2px rgba(60, 64, 67, 0.3), 0 1px 3px 1px rgba(60, 64, 67, 0.15);\n",
              "    fill: var(--button-hover-fill-color);\n",
              "  }\n",
              "\n",
              "  .colab-df-quickchart-complete:disabled,\n",
              "  .colab-df-quickchart-complete:disabled:hover {\n",
              "    background-color: var(--disabled-bg-color);\n",
              "    fill: var(--disabled-fill-color);\n",
              "    box-shadow: none;\n",
              "  }\n",
              "\n",
              "  .colab-df-spinner {\n",
              "    border: 2px solid var(--fill-color);\n",
              "    border-color: transparent;\n",
              "    border-bottom-color: var(--fill-color);\n",
              "    animation:\n",
              "      spin 1s steps(1) infinite;\n",
              "  }\n",
              "\n",
              "  @keyframes spin {\n",
              "    0% {\n",
              "      border-color: transparent;\n",
              "      border-bottom-color: var(--fill-color);\n",
              "      border-left-color: var(--fill-color);\n",
              "    }\n",
              "    20% {\n",
              "      border-color: transparent;\n",
              "      border-left-color: var(--fill-color);\n",
              "      border-top-color: var(--fill-color);\n",
              "    }\n",
              "    30% {\n",
              "      border-color: transparent;\n",
              "      border-left-color: var(--fill-color);\n",
              "      border-top-color: var(--fill-color);\n",
              "      border-right-color: var(--fill-color);\n",
              "    }\n",
              "    40% {\n",
              "      border-color: transparent;\n",
              "      border-right-color: var(--fill-color);\n",
              "      border-top-color: var(--fill-color);\n",
              "    }\n",
              "    60% {\n",
              "      border-color: transparent;\n",
              "      border-right-color: var(--fill-color);\n",
              "    }\n",
              "    80% {\n",
              "      border-color: transparent;\n",
              "      border-right-color: var(--fill-color);\n",
              "      border-bottom-color: var(--fill-color);\n",
              "    }\n",
              "    90% {\n",
              "      border-color: transparent;\n",
              "      border-bottom-color: var(--fill-color);\n",
              "    }\n",
              "  }\n",
              "</style>\n",
              "\n",
              "  <script>\n",
              "    async function quickchart(key) {\n",
              "      const quickchartButtonEl =\n",
              "        document.querySelector('#' + key + ' button');\n",
              "      quickchartButtonEl.disabled = true;  // To prevent multiple clicks.\n",
              "      quickchartButtonEl.classList.add('colab-df-spinner');\n",
              "      try {\n",
              "        const charts = await google.colab.kernel.invokeFunction(\n",
              "            'suggestCharts', [key], {});\n",
              "      } catch (error) {\n",
              "        console.error('Error during call to suggestCharts:', error);\n",
              "      }\n",
              "      quickchartButtonEl.classList.remove('colab-df-spinner');\n",
              "      quickchartButtonEl.classList.add('colab-df-quickchart-complete');\n",
              "    }\n",
              "    (() => {\n",
              "      let quickchartButtonEl =\n",
              "        document.querySelector('#df-1347854d-d3f3-4827-8099-47a372db6938 button');\n",
              "      quickchartButtonEl.style.display =\n",
              "        google.colab.kernel.accessAllowed ? 'block' : 'none';\n",
              "    })();\n",
              "  </script>\n",
              "</div>\n",
              "\n",
              "    </div>\n",
              "  </div>\n"
            ],
            "application/vnd.google.colaboratory.intrinsic+json": {
              "type": "dataframe",
              "summary": "{\n  \"name\": \"df\",\n  \"rows\": 12,\n  \"fields\": [\n    {\n      \"column\": \" NO OF unique  VALUES\",\n      \"properties\": {\n        \"dtype\": \"number\",\n        \"std\": 162,\n        \"min\": 2,\n        \"max\": 504,\n        \"num_unique_values\": 7,\n        \"samples\": [\n          2,\n          5,\n          11\n        ],\n        \"semantic_type\": \"\",\n        \"description\": \"\"\n      }\n    }\n  ]\n}"
            }
          },
          "metadata": {},
          "execution_count": 74
        }
      ]
    },
    {
      "cell_type": "markdown",
      "source": [
        "now check the unique values\n"
      ],
      "metadata": {
        "id": "u_EW6GVbPrjh"
      }
    },
    {
      "cell_type": "code",
      "source": [
        "df['Gender'].unique()"
      ],
      "metadata": {
        "colab": {
          "base_uri": "https://localhost:8080/"
        },
        "id": "-JzHoKw3P1X5",
        "outputId": "695cb2ce-7cc9-460f-816d-9864dd66b15f"
      },
      "execution_count": null,
      "outputs": [
        {
          "output_type": "execute_result",
          "data": {
            "text/plain": [
              "array(['Male', 'Female'], dtype=object)"
            ]
          },
          "metadata": {},
          "execution_count": 75
        }
      ]
    },
    {
      "cell_type": "code",
      "source": [
        "df['Married'].unique()"
      ],
      "metadata": {
        "id": "KjyWugKIP9fQ",
        "colab": {
          "base_uri": "https://localhost:8080/"
        },
        "outputId": "18ce1be3-0bc2-4356-c3d9-76f244ee2fc4"
      },
      "execution_count": null,
      "outputs": [
        {
          "output_type": "execute_result",
          "data": {
            "text/plain": [
              "array(['Yes', 'No'], dtype=object)"
            ]
          },
          "metadata": {},
          "execution_count": 76
        }
      ]
    },
    {
      "cell_type": "code",
      "source": [
        "df['Dependent'].unique()"
      ],
      "metadata": {
        "id": "Ifa6L735QA0q",
        "colab": {
          "base_uri": "https://localhost:8080/"
        },
        "outputId": "4b47b6ef-9ede-4d43-d41b-e525cc348bf1"
      },
      "execution_count": null,
      "outputs": [
        {
          "output_type": "execute_result",
          "data": {
            "text/plain": [
              "array(['1', '0', '2', '3+', 0], dtype=object)"
            ]
          },
          "metadata": {},
          "execution_count": 77
        }
      ]
    },
    {
      "cell_type": "code",
      "source": [
        "df['Graduate'].unique()"
      ],
      "metadata": {
        "id": "O9NbK6-uQDMu",
        "colab": {
          "base_uri": "https://localhost:8080/"
        },
        "outputId": "74a2c370-30a8-4073-ea50-cab3a439ba18"
      },
      "execution_count": null,
      "outputs": [
        {
          "output_type": "execute_result",
          "data": {
            "text/plain": [
              "array(['Graduate', 'Not Graduate'], dtype=object)"
            ]
          },
          "metadata": {},
          "execution_count": 78
        }
      ]
    },
    {
      "cell_type": "code",
      "source": [
        "df['Self Employed'].unique()"
      ],
      "metadata": {
        "id": "f_oQdurlQGhy",
        "colab": {
          "base_uri": "https://localhost:8080/"
        },
        "outputId": "fa95cc7f-d2bc-4173-f027-bac76cbb4146"
      },
      "execution_count": null,
      "outputs": [
        {
          "output_type": "execute_result",
          "data": {
            "text/plain": [
              "array(['No', 'Yes'], dtype=object)"
            ]
          },
          "metadata": {},
          "execution_count": 79
        }
      ]
    },
    {
      "cell_type": "code",
      "source": [
        "df['Property Area'].unique()"
      ],
      "metadata": {
        "id": "3kK4vyRoQMDc",
        "colab": {
          "base_uri": "https://localhost:8080/"
        },
        "outputId": "ad3f6dd0-b3cb-4f4f-d20a-6a38fb2ef08c"
      },
      "execution_count": null,
      "outputs": [
        {
          "output_type": "execute_result",
          "data": {
            "text/plain": [
              "array(['Rural', 'Urban', 'Semiurban'], dtype=object)"
            ]
          },
          "metadata": {},
          "execution_count": 80
        }
      ]
    },
    {
      "cell_type": "code",
      "source": [
        "df['Loan Status'].unique()"
      ],
      "metadata": {
        "id": "aVgvCxb3QQWI",
        "colab": {
          "base_uri": "https://localhost:8080/"
        },
        "outputId": "c31435c7-ce2d-44ff-8dba-821ec8f4a7c0"
      },
      "execution_count": null,
      "outputs": [
        {
          "output_type": "execute_result",
          "data": {
            "text/plain": [
              "array(['N', 'Y'], dtype=object)"
            ]
          },
          "metadata": {},
          "execution_count": 81
        }
      ]
    },
    {
      "cell_type": "code",
      "source": [
        "df['Credit History'].unique()"
      ],
      "metadata": {
        "colab": {
          "base_uri": "https://localhost:8080/"
        },
        "id": "-NUfarZxQSft",
        "outputId": "a07df711-cf76-4177-f991-795a4613aacc"
      },
      "execution_count": null,
      "outputs": [
        {
          "output_type": "execute_result",
          "data": {
            "text/plain": [
              "array([1., 0.])"
            ]
          },
          "metadata": {},
          "execution_count": 82
        }
      ]
    },
    {
      "cell_type": "markdown",
      "source": [
        "Data visualize"
      ],
      "metadata": {
        "id": "ryuNeFNGQfrg"
      }
    },
    {
      "cell_type": "code",
      "source": [
        "#visualize the number of gender\n",
        "ax=sns.countplot(x='Gender',data=df)\n",
        "print(df['Gender'].value_counts())"
      ],
      "metadata": {
        "colab": {
          "base_uri": "https://localhost:8080/",
          "height": 522
        },
        "id": "ZesajwFBQlQm",
        "outputId": "0316bd1d-7434-44ca-a9f3-d55daf91e73d"
      },
      "execution_count": null,
      "outputs": [
        {
          "output_type": "stream",
          "name": "stdout",
          "text": [
            "Gender\n",
            "Male      501\n",
            "Female    112\n",
            "Name: count, dtype: int64\n"
          ]
        },
        {
          "output_type": "display_data",
          "data": {
            "text/plain": [
              "<Figure size 640x480 with 1 Axes>"
            ],
            "image/png": "[encoded data removed]"
          },
          "metadata": {}
        }
      ]
    },
    {
      "cell_type": "code",
      "source": [
        "#visualize the number of married\n",
        "ax=sns.countplot(x='Married',data=df)\n",
        "print(df['Married'].value_counts())"
      ],
      "metadata": {
        "colab": {
          "base_uri": "https://localhost:8080/",
          "height": 522
        },
        "id": "ZrLEupQSQ7n3",
        "outputId": "d1ebe315-b297-41b1-df28-eb88cf917321"
      },
      "execution_count": null,
      "outputs": [
        {
          "output_type": "stream",
          "name": "stdout",
          "text": [
            "Married\n",
            "Yes    401\n",
            "No     212\n",
            "Name: count, dtype: int64\n"
          ]
        },
        {
          "output_type": "display_data",
          "data": {
            "text/plain": [
              "<Figure size 640x480 with 1 Axes>"
            ],
            "image/png": "[encoded data removed]"
          },
          "metadata": {}
        }
      ]
    },
    {
      "cell_type": "code",
      "source": [
        "#assuming df is your DataFrame and it has a column named 'dependent'\n",
        "job_counts = df[\"Dependent\"].value_counts()\n",
        "plt.figure(figsize=(10,8))\n",
        "job_counts.plot(kind='bar', color='skyblue')\n",
        "plt.title(\"Distribution of Dependent\")\n",
        "plt.xlabel(\"Dependent\")\n",
        "plt.ylabel(\"Count\")\n",
        "plt.show()"
      ],
      "metadata": {
        "colab": {
          "base_uri": "https://localhost:8080/",
          "height": 724
        },
        "id": "7vMjZcUjRGlp",
        "outputId": "1f644f27-747e-4e54-f94c-d4e1036d36c5"
      },
      "execution_count": null,
      "outputs": [
        {
          "output_type": "display_data",
          "data": {
            "text/plain": [
              "<Figure size 1000x800 with 1 Axes>"
            ],
            "image/png": "[encoded data removed]"
          },
          "metadata": {}
        }
      ]
    },
    {
      "cell_type": "code",
      "source": [
        "#Assuming df is your DataFrame and it has a column named 'self employed'\n",
        "job_counts = df[\"Self Employed\"].value_counts()\n",
        "plt.figure(figsize=(8,6))\n",
        "job_counts.plot(kind='pie', autopct='%1.1f%%', colors=plt.cm.Paired.colors)\n",
        "plt.title(\"Distribution of Self Employed\")\n",
        "plt.ylabel(\"\") #hide the y-label\n",
        "plt.show()\n"
      ],
      "metadata": {
        "colab": {
          "base_uri": "https://localhost:8080/",
          "height": 521
        },
        "id": "A2Vdj1_LRplE",
        "outputId": "097616b9-c845-4ba9-e1bf-a3e1916683be"
      },
      "execution_count": null,
      "outputs": [
        {
          "output_type": "display_data",
          "data": {
            "text/plain": [
              "<Figure size 800x600 with 1 Axes>"
            ],
            "image/png": "[encoded data removed]"
          },
          "metadata": {}
        }
      ]
    },
    {
      "cell_type": "code",
      "source": [
        "#Assuming df is your DataFrame and it has a column named 'Education'\n",
        "job_counts = df[\"Graduate\"].value_counts()\n",
        "plt.figure(figsize=(8,6))\n",
        "job_counts.plot(kind='pie', autopct='%1.1f%%', colors=plt.cm.Paired.colors)\n",
        "plt.title(\"Distribution of Education\")\n",
        "plt.ylabel(\"\") #hide the y-label\n",
        "plt.show()"
      ],
      "metadata": {
        "colab": {
          "base_uri": "https://localhost:8080/",
          "height": 521
        },
        "id": "IzYqKfPWSsqZ",
        "outputId": "60c428c9-90a0-4475-8929-5a0d166edf8f"
      },
      "execution_count": null,
      "outputs": [
        {
          "output_type": "display_data",
          "data": {
            "text/plain": [
              "<Figure size 800x600 with 1 Axes>"
            ],
            "image/png": "[encoded data removed]"
          },
          "metadata": {}
        }
      ]
    },
    {
      "cell_type": "code",
      "source": [
        "#Assuming df is your DataFrame and it has a column named 'property area\n",
        "job_counts = df[\"Property Area\"].value_counts()\n",
        "plt.figure(figsize=(8,6))\n",
        "job_counts.plot(kind='pie', autopct='%1.1f%%', colors=plt.cm.Paired.colors)\n",
        "plt.title(\"Distribution of Property Area\")\n",
        "plt.ylabel(\"\")\n",
        "plt.show()"
      ],
      "metadata": {
        "colab": {
          "base_uri": "https://localhost:8080/",
          "height": 521
        },
        "id": "ZPSzvXv2TLgQ",
        "outputId": "180094e4-54ed-47c6-f7c6-3761d2988d8a"
      },
      "execution_count": null,
      "outputs": [
        {
          "output_type": "display_data",
          "data": {
            "text/plain": [
              "<Figure size 800x600 with 1 Axes>"
            ],
            "image/png": "[encoded data removed]"
          },
          "metadata": {}
        }
      ]
    },
    {
      "cell_type": "code",
      "source": [
        "#Assuming df is your DataFrame and it has a column named 'Loan status'\n",
        "job_counts = df[\"Loan Status\"].value_counts()\n",
        "plt.figure(figsize=(8,6))\n",
        "job_counts.plot(kind='pie', autopct='%1.1f%%', colors=plt.cm.Paired.colors)\n",
        "plt.title(\"Distribution of Loan Status\")\n",
        "plt.ylabel(\"\")\n",
        "plt.show()"
      ],
      "metadata": {
        "colab": {
          "base_uri": "https://localhost:8080/",
          "height": 521
        },
        "id": "F1IYjM-TUDJq",
        "outputId": "6e0675ca-d794-440d-dc22-1c20739aee86"
      },
      "execution_count": null,
      "outputs": [
        {
          "output_type": "display_data",
          "data": {
            "text/plain": [
              "<Figure size 800x600 with 1 Axes>"
            ],
            "image/png": "[encoded data removed]"
          },
          "metadata": {}
        }
      ]
    },
    {
      "cell_type": "markdown",
      "source": [
        "# Relational Analysis"
      ],
      "metadata": {
        "id": "_PUrmtEeUu-N"
      }
    },
    {
      "cell_type": "code",
      "source": [
        "import seaborn as sns\n",
        "# import matplotlib.pyplot as plt\n",
        "plt.figure(figsize=(8,6))\n",
        "sns.barplot(x='Loan Status', y='Applicant Income', data=df)\n",
        "plt.xlabel('Loan Status')\n",
        "plt.ylabel('Applicant Income')\n",
        "plt.title('Relationship between Applicant Income Loan_Status')\n",
        "plt.show()\n"
      ],
      "metadata": {
        "colab": {
          "base_uri": "https://localhost:8080/",
          "height": 564
        },
        "id": "x4nQj8W5U_uY",
        "outputId": "b07380fc-729a-4c95-c917-b03b21dc8699"
      },
      "execution_count": null,
      "outputs": [
        {
          "output_type": "display_data",
          "data": {
            "text/plain": [
              "<Figure size 800x600 with 1 Axes>"
            ],
            "image/png": "[encoded data removed]"
          },
          "metadata": {}
        }
      ]
    },
    {
      "cell_type": "code",
      "source": [
        "plt.figure(figsize=(8,6))\n",
        "sns.barplot(x='Loan Amount', y='Dependent', data=df)\n",
        "plt.xlabel('LoanAmount')\n",
        "plt.ylabel('Dependent')\n",
        "plt.title('Relationship between  Loan_Amount and Dependent')\n",
        "plt.show()"
      ],
      "metadata": {
        "colab": {
          "base_uri": "https://localhost:8080/",
          "height": 564
        },
        "id": "0VGgcZyXV3Tg",
        "outputId": "82363f66-4e19-41be-df62-d9ccf4fd829e"
      },
      "execution_count": null,
      "outputs": [
        {
          "output_type": "display_data",
          "data": {
            "text/plain": [
              "<Figure size 800x600 with 1 Axes>"
            ],
            "image/png": "[encoded data removed]"
          },
          "metadata": {}
        }
      ]
    },
    {
      "cell_type": "code",
      "source": [
        "# x=loanamount ,y=property area\n",
        "plt.figure(figsize=(8,6))\n",
        "sns.barplot(x='Loan Amount', y='Property Area', data=df)\n",
        "plt.xlabel('LoanAmount')\n",
        "plt.ylabel('Property_Area')\n",
        "plt.title('Relationship between  Loan_Amount and Property_Area')\n",
        "plt.show()"
      ],
      "metadata": {
        "colab": {
          "base_uri": "https://localhost:8080/",
          "height": 564
        },
        "id": "v2Z3nz2nXiKx",
        "outputId": "9605e682-3e12-489b-9e19-7ec3c3c01a30"
      },
      "execution_count": null,
      "outputs": [
        {
          "output_type": "display_data",
          "data": {
            "text/plain": [
              "<Figure size 800x600 with 1 Axes>"
            ],
            "image/png": "[encoded data removed]"
          },
          "metadata": {}
        }
      ]
    },
    {
      "cell_type": "code",
      "source": [
        "# x=credit history ,y= loan status\n",
        "plt.figure(figsize=(8,6))\n",
        "sns.barplot(x='Credit History', y='Loan Status', data=df)\n",
        "plt.xlabel('Credit_History')\n",
        "plt.ylabel('Loan_Status')\n",
        "plt.title('Relationship between Credit_History and Loan_Status')\n",
        "plt.show()"
      ],
      "metadata": {
        "id": "WqUYtYRHX5hE",
        "colab": {
          "base_uri": "https://localhost:8080/",
          "height": 564
        },
        "outputId": "7c586011-69f0-4f0a-92b9-f8119c6ffb2c"
      },
      "execution_count": null,
      "outputs": [
        {
          "output_type": "display_data",
          "data": {
            "text/plain": [
              "<Figure size 800x600 with 1 Axes>"
            ],
            "image/png": "[encoded data removed]"
          },
          "metadata": {}
        }
      ]
    },
    {
      "cell_type": "code",
      "source": [
        "# x=loan amount ,y =married\n",
        "plt.figure(figsize=(8,6))\n",
        "sns.barplot(x='Loan Amount', y='Married', data=df)\n",
        "plt.xlabel('LoanAmount')\n",
        "plt.ylabel('Married')\n",
        "plt.title('Relationship between  Loan_Amount and Married')\n",
        "plt.show()"
      ],
      "metadata": {
        "colab": {
          "base_uri": "https://localhost:8080/",
          "height": 564
        },
        "id": "nrla4-rmc3tP",
        "outputId": "7682eda8-3a34-4303-c5fe-f08707ab642a"
      },
      "execution_count": null,
      "outputs": [
        {
          "output_type": "display_data",
          "data": {
            "text/plain": [
              "<Figure size 800x600 with 1 Axes>"
            ],
            "image/png": "[encoded data removed]"
          },
          "metadata": {}
        }
      ]
    },
    {
      "cell_type": "code",
      "source": [
        "# x=loan amount term , y = dependent\n",
        "plt.figure(figsize=(8,6))\n",
        "sns.barplot(x='Loan Amount Term', y='Dependent', data=df)\n",
        "plt.xlabel('Loan_Amount_Term')\n",
        "plt.ylabel('Dependent')\n",
        "plt.title('Relationship between  Loan_Amount_Term and Dependent')\n",
        "plt.show()\n"
      ],
      "metadata": {
        "id": "xa2Rybp7dwmv",
        "colab": {
          "base_uri": "https://localhost:8080/",
          "height": 564
        },
        "outputId": "475c9e84-83ce-4d1e-d000-18985a3a3f9e"
      },
      "execution_count": null,
      "outputs": [
        {
          "output_type": "display_data",
          "data": {
            "text/plain": [
              "<Figure size 800x600 with 1 Axes>"
            ],
            "image/png": "[encoded data removed]"
          },
          "metadata": {}
        }
      ]
    },
    {
      "cell_type": "code",
      "source": [],
      "metadata": {
        "id": "1xdG0FSilrUA"
      },
      "execution_count": null,
      "outputs": []
    },
    {
      "cell_type": "code",
      "source": [],
      "metadata": {
        "id": "qpxfyjnnlvRs"
      },
      "execution_count": null,
      "outputs": []
    },
    {
      "cell_type": "code",
      "source": [],
      "metadata": {
        "id": "enkHiAXZl8l-"
      },
      "execution_count": null,
      "outputs": []
    },
    {
      "cell_type": "code",
      "source": [],
      "metadata": {
        "id": "kvmr9CAVlW09"
      },
      "execution_count": null,
      "outputs": []
    },
    {
      "cell_type": "markdown",
      "source": [
        "# **Checking for outliers**"
      ],
      "metadata": {
        "id": "I6jNRVIdeYEK"
      }
    },
    {
      "cell_type": "code",
      "source": [
        "import matplotlib.pyplot as plt\n",
        "import seaborn as sns\n",
        "\n",
        "# Assume 'df' is your DataFrame\n",
        "numerical_col = df.select_dtypes(include=['number']).columns.tolist()\n",
        "num_numerical_cols = len(numerical_col)\n",
        "\n",
        "# Define subplot grid\n",
        "num_rows = 5\n",
        "num_cols = 4\n",
        "total_subplots = num_rows * num_cols\n",
        "\n",
        "# Create a new figure and set its size\n",
        "plt.figure(figsize=(20, 16), facecolor='white')\n",
        "\n",
        "# Iterate over numerical columns and create subplots for boxplots\n",
        "plotnumber = 1\n",
        "for col in numerical_col:\n",
        "    if plotnumber <= total_subplots:\n",
        "        # Create subplot at the specified position\n",
        "        ax = plt.subplot(num_rows, num_cols, plotnumber)\n",
        "        sns.boxplot(x=df[col], palette=\"Set2_r\", ax=ax)\n",
        "\n",
        "        # Customize subplot labels and ticks\n",
        "        ax.set_xlabel(col, fontsize=10)\n",
        "        ax.set_ylabel(\"Values\", fontsize=10)\n",
        "        ax.set_xticks([])\n",
        "        ax.tick_params(axis='y', labelsize=10)\n",
        "\n",
        "        plotnumber += 1\n",
        "\n",
        "# Adjust layout to prevent overlap and improve readability\n",
        "plt.tight_layout()\n",
        "plt.show()\n"
      ],
      "metadata": {
        "colab": {
          "base_uri": "https://localhost:8080/",
          "height": 539
        },
        "id": "uu4d_32XeT7t",
        "outputId": "66c77c96-c949-4f71-8faf-ea8f78c5091f",
        "collapsed": true
      },
      "execution_count": null,
      "outputs": [
        {
          "output_type": "display_data",
          "data": {
            "text/plain": [
              "<Figure size 2000x1600 with 5 Axes>"
            ],
            "image/png": "[encoded data removed]"
          },
          "metadata": {}
        }
      ]
    },
    {
      "cell_type": "code",
      "source": [
        "## Checking the outliers\n",
        "\n",
        "plt.figure(figsize=(12,8))\n",
        "sns.boxplot(data = df)"
      ],
      "metadata": {
        "colab": {
          "base_uri": "https://localhost:8080/",
          "height": 694
        },
        "id": "KYqzvacskg7V",
        "outputId": "4d4b7f11-4468-4c0c-8fe6-d4e787935691"
      },
      "execution_count": null,
      "outputs": [
        {
          "output_type": "execute_result",
          "data": {
            "text/plain": [
              "<Axes: >"
            ]
          },
          "metadata": {},
          "execution_count": 97
        },
        {
          "output_type": "display_data",
          "data": {
            "text/plain": [
              "<Figure size 1200x800 with 1 Axes>"
            ],
            "image/png": "[encoded data removed]"
          },
          "metadata": {}
        }
      ]
    },
    {
      "cell_type": "code",
      "source": [
        "import pandas as pd\n",
        "#assuming df is your dataframe containing the relevrnt colums\n",
        "#calculate IQR\n",
        "columns_of_interest = ['Applicant Income', 'Co applicant Income', 'Loan Amount', 'Loan Amount Term','Credit History']\n",
        "Q1 = df[columns_of_interest].quantile(0.25)\n",
        "Q3 = df[columns_of_interest].quantile(0.75)\n",
        "IQR = Q3 - Q1\n",
        "#determine outliers based on IQR\n",
        "lower_bound = Q1 - 1.5 * IQR\n",
        "upper_bound = Q3 + 1.5 * IQR\n",
        "outliers = ((df[columns_of_interest] < lower_bound) | (df[columns_of_interest] > upper_bound)).any(axis=1)\n",
        "#count the number of outliers\n",
        "df1 = df[~((df[columns_of_interest] < lower_bound) | (df[columns_of_interest] > upper_bound)).any(axis=1)]\n",
        "#print cleaned dataframe\n",
        "print('dataframe after removing outliers:')\n",
        "print(df1)\n",
        "#optional print removed outliers\n",
        "print('removed outliers:')\n",
        "print(df[outliers])\n",
        "num_outliers = outliers.sum()\n",
        "\n",
        "\n"
      ],
      "metadata": {
        "colab": {
          "base_uri": "https://localhost:8080/"
        },
        "collapsed": true,
        "id": "qBGL8JklpQm3",
        "outputId": "5309d418-353c-4947-ae1d-80189a782ea8"
      },
      "execution_count": null,
      "outputs": [
        {
          "output_type": "stream",
          "name": "stdout",
          "text": [
            "dataframe after removing outliers:\n",
            "     Gender Married Dependent      Graduate Self Employed  Applicant Income  \\\n",
            "0      Male     Yes         1      Graduate            No              4583   \n",
            "1      Male     Yes         0      Graduate           Yes              3000   \n",
            "2      Male     Yes         0  Not Graduate            No              2583   \n",
            "3      Male      No         0      Graduate            No              6000   \n",
            "5      Male     Yes         0  Not Graduate            No              2333   \n",
            "..      ...     ...       ...           ...           ...               ...   \n",
            "606    Male     Yes         2  Not Graduate            No              3987   \n",
            "607    Male     Yes         0      Graduate            No              3232   \n",
            "608  Female      No         0      Graduate            No              2900   \n",
            "610    Male     Yes         1      Graduate            No              8072   \n",
            "611    Male     Yes         2      Graduate            No              7583   \n",
            "\n",
            "     Co applicant Income  Loan Amount  Loan Amount Term  Credit History  \\\n",
            "0                 1508.0        128.0             360.0             1.0   \n",
            "1                    0.0         66.0             360.0             1.0   \n",
            "2                 2358.0        120.0             360.0             1.0   \n",
            "3                    0.0        141.0             360.0             1.0   \n",
            "5                 1516.0         95.0             360.0             1.0   \n",
            "..                   ...          ...               ...             ...   \n",
            "606               1411.0        157.0             360.0             1.0   \n",
            "607               1950.0        108.0             360.0             1.0   \n",
            "608                  0.0         71.0             360.0             1.0   \n",
            "610                240.0        253.0             360.0             1.0   \n",
            "611                  0.0        187.0             360.0             1.0   \n",
            "\n",
            "    Property Area Loan Status  \n",
            "0           Rural           N  \n",
            "1           Urban           Y  \n",
            "2           Urban           Y  \n",
            "3           Urban           Y  \n",
            "5           Urban           Y  \n",
            "..            ...         ...  \n",
            "606         Rural           Y  \n",
            "607         Rural           Y  \n",
            "608         Rural           Y  \n",
            "610         Urban           Y  \n",
            "611         Urban           Y  \n",
            "\n",
            "[386 rows x 12 columns]\n",
            "removed outliers:\n",
            "     Gender Married Dependent      Graduate Self Employed  Applicant Income  \\\n",
            "4      Male     Yes         2      Graduate           Yes              5417   \n",
            "6      Male     Yes        3+      Graduate            No              3036   \n",
            "8      Male     Yes         1      Graduate            No             12841   \n",
            "11     Male     Yes         2      Graduate            No              3073   \n",
            "13     Male     Yes         2      Graduate            No              1299   \n",
            "..      ...     ...       ...           ...           ...               ...   \n",
            "599  Female      No        3+      Graduate            No               416   \n",
            "603  Female     Yes         1      Graduate            No             12000   \n",
            "604    Male     Yes         0  Not Graduate            No              2400   \n",
            "609    Male     Yes        3+      Graduate            No              4106   \n",
            "612  Female      No         0      Graduate           Yes              4583   \n",
            "\n",
            "     Co applicant Income  Loan Amount  Loan Amount Term  Credit History  \\\n",
            "4                 4196.0   267.000000             360.0             1.0   \n",
            "6                 2504.0   158.000000             360.0             0.0   \n",
            "8                10968.0   349.000000             360.0             1.0   \n",
            "11                8106.0   200.000000             360.0             1.0   \n",
            "13                1086.0    17.000000             120.0             1.0   \n",
            "..                   ...          ...               ...             ...   \n",
            "599              41667.0   350.000000             180.0             1.0   \n",
            "603                  0.0   496.000000             360.0             1.0   \n",
            "604               3800.0   146.412162             180.0             1.0   \n",
            "609                  0.0    40.000000             180.0             1.0   \n",
            "612                  0.0   133.000000             360.0             0.0   \n",
            "\n",
            "    Property Area Loan Status  \n",
            "4           Urban           Y  \n",
            "6       Semiurban           N  \n",
            "8       Semiurban           N  \n",
            "11          Urban           Y  \n",
            "13          Urban           Y  \n",
            "..            ...         ...  \n",
            "599         Urban           N  \n",
            "603     Semiurban           Y  \n",
            "604         Urban           N  \n",
            "609         Rural           Y  \n",
            "612     Semiurban           N  \n",
            "\n",
            "[227 rows x 12 columns]\n"
          ]
        }
      ]
    },
    {
      "cell_type": "markdown",
      "source": [
        "# here we can see that 227rows **deleted**"
      ],
      "metadata": {
        "id": "XYG35FAqs8rY"
      }
    },
    {
      "cell_type": "code",
      "source": [
        "df1.dtypes"
      ],
      "metadata": {
        "id": "tshgTafArU1T",
        "colab": {
          "base_uri": "https://localhost:8080/",
          "height": 460
        },
        "outputId": "e81b785e-48da-4eea-afb3-4e8dfbd58b62"
      },
      "execution_count": null,
      "outputs": [
        {
          "output_type": "execute_result",
          "data": {
            "text/plain": [
              "Gender                  object\n",
              "Married                 object\n",
              "Dependent               object\n",
              "Graduate                object\n",
              "Self Employed           object\n",
              "Applicant Income         int64\n",
              "Co applicant Income    float64\n",
              "Loan Amount            float64\n",
              "Loan Amount Term       float64\n",
              "Credit History         float64\n",
              "Property Area           object\n",
              "Loan Status             object\n",
              "dtype: object"
            ],
            "text/html": [
              "<div>\n",
              "<style scoped>\n",
              "    .dataframe tbody tr th:only-of-type {\n",
              "        vertical-align: middle;\n",
              "    }\n",
              "\n",
              "    .dataframe tbody tr th {\n",
              "        vertical-align: top;\n",
              "    }\n",
              "\n",
              "    .dataframe thead th {\n",
              "        text-align: right;\n",
              "    }\n",
              "</style>\n",
              "<table border=\"1\" class=\"dataframe\">\n",
              "  <thead>\n",
              "    <tr style=\"text-align: right;\">\n",
              "      <th></th>\n",
              "      <th>0</th>\n",
              "    </tr>\n",
              "  </thead>\n",
              "  <tbody>\n",
              "    <tr>\n",
              "      <th>Gender</th>\n",
              "      <td>object</td>\n",
              "    </tr>\n",
              "    <tr>\n",
              "      <th>Married</th>\n",
              "      <td>object</td>\n",
              "    </tr>\n",
              "    <tr>\n",
              "      <th>Dependent</th>\n",
              "      <td>object</td>\n",
              "    </tr>\n",
              "    <tr>\n",
              "      <th>Graduate</th>\n",
              "      <td>object</td>\n",
              "    </tr>\n",
              "    <tr>\n",
              "      <th>Self Employed</th>\n",
              "      <td>object</td>\n",
              "    </tr>\n",
              "    <tr>\n",
              "      <th>Applicant Income</th>\n",
              "      <td>int64</td>\n",
              "    </tr>\n",
              "    <tr>\n",
              "      <th>Co applicant Income</th>\n",
              "      <td>float64</td>\n",
              "    </tr>\n",
              "    <tr>\n",
              "      <th>Loan Amount</th>\n",
              "      <td>float64</td>\n",
              "    </tr>\n",
              "    <tr>\n",
              "      <th>Loan Amount Term</th>\n",
              "      <td>float64</td>\n",
              "    </tr>\n",
              "    <tr>\n",
              "      <th>Credit History</th>\n",
              "      <td>float64</td>\n",
              "    </tr>\n",
              "    <tr>\n",
              "      <th>Property Area</th>\n",
              "      <td>object</td>\n",
              "    </tr>\n",
              "    <tr>\n",
              "      <th>Loan Status</th>\n",
              "      <td>object</td>\n",
              "    </tr>\n",
              "  </tbody>\n",
              "</table>\n",
              "</div><br><label><b>dtype:</b> object</label>"
            ]
          },
          "metadata": {},
          "execution_count": 99
        }
      ]
    },
    {
      "cell_type": "markdown",
      "source": [
        "# **Label** **Encoder**"
      ],
      "metadata": {
        "id": "qSvO1DgZtNSC"
      }
    },
    {
      "cell_type": "code",
      "source": [
        "#encoding = conversion of categorical data to numerical data\n",
        "from sklearn.preprocessing import LabelEncoder\n",
        "#create a label encoder object\n",
        "label_encoder= LabelEncoder()\n",
        "#dictionary to store mappings\n",
        "mappings = {}\n",
        "# Define the list of categorical columns\n",
        "categorical_col = ['Gender', 'Married', 'Dependent', 'Graduate', 'Self Employed', 'Property Area','Loan Status'] # Replace with your actual categorical column names\n",
        "\n",
        "#apply label encoder to each categorical column and store the mappings\n",
        "for col in categorical_col:\n",
        "    df1[col] = (df1[col]).astype(str)\n",
        "    df1[col] = label_encoder.fit_transform(df1[col])\n",
        "    mappings[col] = dict(zip(label_encoder.classes_, label_encoder.transform(label_encoder.classes_)))\n",
        "    print(\"encoded dataframe : \\n\",df1.head())\n",
        "    print(\"\\n Mappings for each column:\")\n",
        "    for col, mapping in mappings.items():\n",
        "        print(f\"{col} mappings:\", mapping)"
      ],
      "metadata": {
        "colab": {
          "base_uri": "https://localhost:8080/"
        },
        "collapsed": true,
        "id": "BPm_v8wBtMZC",
        "outputId": "45ae0dbc-a4ed-4daa-f9f7-2e535226de9b"
      },
      "execution_count": null,
      "outputs": [
        {
          "output_type": "stream",
          "name": "stdout",
          "text": [
            "encoded dataframe : \n",
            "    Gender Married Dependent      Graduate Self Employed  Applicant Income  \\\n",
            "0       1     Yes         1      Graduate            No              4583   \n",
            "1       1     Yes         0      Graduate           Yes              3000   \n",
            "2       1     Yes         0  Not Graduate            No              2583   \n",
            "3       1      No         0      Graduate            No              6000   \n",
            "5       1     Yes         0  Not Graduate            No              2333   \n",
            "\n",
            "   Co applicant Income  Loan Amount  Loan Amount Term  Credit History  \\\n",
            "0               1508.0        128.0             360.0             1.0   \n",
            "1                  0.0         66.0             360.0             1.0   \n",
            "2               2358.0        120.0             360.0             1.0   \n",
            "3                  0.0        141.0             360.0             1.0   \n",
            "5               1516.0         95.0             360.0             1.0   \n",
            "\n",
            "  Property Area Loan Status  \n",
            "0         Rural           N  \n",
            "1         Urban           Y  \n",
            "2         Urban           Y  \n",
            "3         Urban           Y  \n",
            "5         Urban           Y  \n",
            "\n",
            " Mappings for each column:\n",
            "Gender mappings: {'Female': 0, 'Male': 1}\n",
            "encoded dataframe : \n",
            "    Gender  Married Dependent      Graduate Self Employed  Applicant Income  \\\n",
            "0       1        1         1      Graduate            No              4583   \n",
            "1       1        1         0      Graduate           Yes              3000   \n",
            "2       1        1         0  Not Graduate            No              2583   \n",
            "3       1        0         0      Graduate            No              6000   \n",
            "5       1        1         0  Not Graduate            No              2333   \n",
            "\n",
            "   Co applicant Income  Loan Amount  Loan Amount Term  Credit History  \\\n",
            "0               1508.0        128.0             360.0             1.0   \n",
            "1                  0.0         66.0             360.0             1.0   \n",
            "2               2358.0        120.0             360.0             1.0   \n",
            "3                  0.0        141.0             360.0             1.0   \n",
            "5               1516.0         95.0             360.0             1.0   \n",
            "\n",
            "  Property Area Loan Status  \n",
            "0         Rural           N  \n",
            "1         Urban           Y  \n",
            "2         Urban           Y  \n",
            "3         Urban           Y  \n",
            "5         Urban           Y  \n",
            "\n",
            " Mappings for each column:\n",
            "Gender mappings: {'Female': 0, 'Male': 1}\n",
            "Married mappings: {'No': 0, 'Yes': 1}\n",
            "encoded dataframe : \n",
            "    Gender  Married  Dependent      Graduate Self Employed  Applicant Income  \\\n",
            "0       1        1          1      Graduate            No              4583   \n",
            "1       1        1          0      Graduate           Yes              3000   \n",
            "2       1        1          0  Not Graduate            No              2583   \n",
            "3       1        0          0      Graduate            No              6000   \n",
            "5       1        1          0  Not Graduate            No              2333   \n",
            "\n",
            "   Co applicant Income  Loan Amount  Loan Amount Term  Credit History  \\\n",
            "0               1508.0        128.0             360.0             1.0   \n",
            "1                  0.0         66.0             360.0             1.0   \n",
            "2               2358.0        120.0             360.0             1.0   \n",
            "3                  0.0        141.0             360.0             1.0   \n",
            "5               1516.0         95.0             360.0             1.0   \n",
            "\n",
            "  Property Area Loan Status  \n",
            "0         Rural           N  \n",
            "1         Urban           Y  \n",
            "2         Urban           Y  \n",
            "3         Urban           Y  \n",
            "5         Urban           Y  \n",
            "\n",
            " Mappings for each column:\n",
            "Gender mappings: {'Female': 0, 'Male': 1}\n",
            "Married mappings: {'No': 0, 'Yes': 1}\n",
            "Dependent mappings: {'0': 0, '1': 1, '2': 2, '3+': 3}\n",
            "encoded dataframe : \n",
            "    Gender  Married  Dependent  Graduate Self Employed  Applicant Income  \\\n",
            "0       1        1          1         0            No              4583   \n",
            "1       1        1          0         0           Yes              3000   \n",
            "2       1        1          0         1            No              2583   \n",
            "3       1        0          0         0            No              6000   \n",
            "5       1        1          0         1            No              2333   \n",
            "\n",
            "   Co applicant Income  Loan Amount  Loan Amount Term  Credit History  \\\n",
            "0               1508.0        128.0             360.0             1.0   \n",
            "1                  0.0         66.0             360.0             1.0   \n",
            "2               2358.0        120.0             360.0             1.0   \n",
            "3                  0.0        141.0             360.0             1.0   \n",
            "5               1516.0         95.0             360.0             1.0   \n",
            "\n",
            "  Property Area Loan Status  \n",
            "0         Rural           N  \n",
            "1         Urban           Y  \n",
            "2         Urban           Y  \n",
            "3         Urban           Y  \n",
            "5         Urban           Y  \n",
            "\n",
            " Mappings for each column:\n",
            "Gender mappings: {'Female': 0, 'Male': 1}\n",
            "Married mappings: {'No': 0, 'Yes': 1}\n",
            "Dependent mappings: {'0': 0, '1': 1, '2': 2, '3+': 3}\n",
            "Graduate mappings: {'Graduate': 0, 'Not Graduate': 1}\n",
            "encoded dataframe : \n",
            "    Gender  Married  Dependent  Graduate  Self Employed  Applicant Income  \\\n",
            "0       1        1          1         0              0              4583   \n",
            "1       1        1          0         0              1              3000   \n",
            "2       1        1          0         1              0              2583   \n",
            "3       1        0          0         0              0              6000   \n",
            "5       1        1          0         1              0              2333   \n",
            "\n",
            "   Co applicant Income  Loan Amount  Loan Amount Term  Credit History  \\\n",
            "0               1508.0        128.0             360.0             1.0   \n",
            "1                  0.0         66.0             360.0             1.0   \n",
            "2               2358.0        120.0             360.0             1.0   \n",
            "3                  0.0        141.0             360.0             1.0   \n",
            "5               1516.0         95.0             360.0             1.0   \n",
            "\n",
            "  Property Area Loan Status  \n",
            "0         Rural           N  \n",
            "1         Urban           Y  \n",
            "2         Urban           Y  \n",
            "3         Urban           Y  \n",
            "5         Urban           Y  \n",
            "\n",
            " Mappings for each column:\n",
            "Gender mappings: {'Female': 0, 'Male': 1}\n",
            "Married mappings: {'No': 0, 'Yes': 1}\n",
            "Dependent mappings: {'0': 0, '1': 1, '2': 2, '3+': 3}\n",
            "Graduate mappings: {'Graduate': 0, 'Not Graduate': 1}\n",
            "Self Employed mappings: {'No': 0, 'Yes': 1}\n",
            "encoded dataframe : \n",
            "    Gender  Married  Dependent  Graduate  Self Employed  Applicant Income  \\\n",
            "0       1        1          1         0              0              4583   \n",
            "1       1        1          0         0              1              3000   \n",
            "2       1        1          0         1              0              2583   \n",
            "3       1        0          0         0              0              6000   \n",
            "5       1        1          0         1              0              2333   \n",
            "\n",
            "   Co applicant Income  Loan Amount  Loan Amount Term  Credit History  \\\n",
            "0               1508.0        128.0             360.0             1.0   \n",
            "1                  0.0         66.0             360.0             1.0   \n",
            "2               2358.0        120.0             360.0             1.0   \n",
            "3                  0.0        141.0             360.0             1.0   \n",
            "5               1516.0         95.0             360.0             1.0   \n",
            "\n",
            "   Property Area Loan Status  \n",
            "0              0           N  \n",
            "1              2           Y  \n",
            "2              2           Y  \n",
            "3              2           Y  \n",
            "5              2           Y  \n",
            "\n",
            " Mappings for each column:\n",
            "Gender mappings: {'Female': 0, 'Male': 1}\n",
            "Married mappings: {'No': 0, 'Yes': 1}\n",
            "Dependent mappings: {'0': 0, '1': 1, '2': 2, '3+': 3}\n",
            "Graduate mappings: {'Graduate': 0, 'Not Graduate': 1}\n",
            "Self Employed mappings: {'No': 0, 'Yes': 1}\n",
            "Property Area mappings: {'Rural': 0, 'Semiurban': 1, 'Urban': 2}\n",
            "encoded dataframe : \n",
            "    Gender  Married  Dependent  Graduate  Self Employed  Applicant Income  \\\n",
            "0       1        1          1         0              0              4583   \n",
            "1       1        1          0         0              1              3000   \n",
            "2       1        1          0         1              0              2583   \n",
            "3       1        0          0         0              0              6000   \n",
            "5       1        1          0         1              0              2333   \n",
            "\n",
            "   Co applicant Income  Loan Amount  Loan Amount Term  Credit History  \\\n",
            "0               1508.0        128.0             360.0             1.0   \n",
            "1                  0.0         66.0             360.0             1.0   \n",
            "2               2358.0        120.0             360.0             1.0   \n",
            "3                  0.0        141.0             360.0             1.0   \n",
            "5               1516.0         95.0             360.0             1.0   \n",
            "\n",
            "   Property Area  Loan Status  \n",
            "0              0            0  \n",
            "1              2            1  \n",
            "2              2            1  \n",
            "3              2            1  \n",
            "5              2            1  \n",
            "\n",
            " Mappings for each column:\n",
            "Gender mappings: {'Female': 0, 'Male': 1}\n",
            "Married mappings: {'No': 0, 'Yes': 1}\n",
            "Dependent mappings: {'0': 0, '1': 1, '2': 2, '3+': 3}\n",
            "Graduate mappings: {'Graduate': 0, 'Not Graduate': 1}\n",
            "Self Employed mappings: {'No': 0, 'Yes': 1}\n",
            "Property Area mappings: {'Rural': 0, 'Semiurban': 1, 'Urban': 2}\n",
            "Loan Status mappings: {'N': 0, 'Y': 1}\n"
          ]
        }
      ]
    },
    {
      "cell_type": "markdown",
      "source": [
        "# checking how the data  is distributed"
      ],
      "metadata": {
        "id": "u2yd1ZHIye5G"
      }
    },
    {
      "source": [
        "plt.figure(figsize=(20,25),facecolor='green')\n",
        "plotnumber=1\n",
        "\n",
        "# Exclude the 'ID' column from plotting\n",
        "numerical_columns = [col for col in df1.columns if col != 'ID' and df1[col].dtype != 'object']\n",
        "\n",
        "for column in numerical_columns:  # Iterate through numerical columns only\n",
        "    if plotnumber<=18:\n",
        "        ax=plt.subplot(6,4,plotnumber)\n",
        "        sns.distplot(df1[column],color = 'b')\n",
        "        plt.xlabel(column,fontsize=20)\n",
        "    plotnumber+=1\n",
        "\n",
        "plt.show()"
      ],
      "cell_type": "code",
      "metadata": {
        "colab": {
          "base_uri": "https://localhost:8080/",
          "height": 1005
        },
        "id": "8A-NW7L0wfQg",
        "outputId": "865ed9d2-073c-4788-8cd0-728c33631406"
      },
      "execution_count": null,
      "outputs": [
        {
          "output_type": "display_data",
          "data": {
            "text/plain": [
              "<Figure size 2000x2500 with 12 Axes>"
            ],
            "image/png": "[encoded data removed]"
          },
          "metadata": {}
        }
      ]
    },
    {
      "cell_type": "markdown",
      "source": [
        "# check skewness"
      ],
      "metadata": {
        "id": "BfDprsaChA02"
      }
    },
    {
      "cell_type": "code",
      "source": [
        "#now all data are converted into numerical form so no we check skewness\n",
        "df1.skew()"
      ],
      "metadata": {
        "colab": {
          "base_uri": "https://localhost:8080/",
          "height": 460
        },
        "id": "ZF2CFgq1g_Nw",
        "outputId": "c7972ba4-f5aa-4643-942e-dfd03480b59e"
      },
      "execution_count": null,
      "outputs": [
        {
          "output_type": "execute_result",
          "data": {
            "text/plain": [
              "Gender                -1.572449\n",
              "Married               -0.608767\n",
              "Dependent              1.103436\n",
              "Graduate               1.392692\n",
              "Self Employed          2.479892\n",
              "Applicant Income       1.122113\n",
              "Co applicant Income    0.843290\n",
              "Loan Amount            0.408599\n",
              "Loan Amount Term       0.000000\n",
              "Credit History         0.000000\n",
              "Property Area          0.036088\n",
              "Loan Status           -1.572449\n",
              "dtype: float64"
            ],
            "text/html": [
              "<div>\n",
              "<style scoped>\n",
              "    .dataframe tbody tr th:only-of-type {\n",
              "        vertical-align: middle;\n",
              "    }\n",
              "\n",
              "    .dataframe tbody tr th {\n",
              "        vertical-align: top;\n",
              "    }\n",
              "\n",
              "    .dataframe thead th {\n",
              "        text-align: right;\n",
              "    }\n",
              "</style>\n",
              "<table border=\"1\" class=\"dataframe\">\n",
              "  <thead>\n",
              "    <tr style=\"text-align: right;\">\n",
              "      <th></th>\n",
              "      <th>0</th>\n",
              "    </tr>\n",
              "  </thead>\n",
              "  <tbody>\n",
              "    <tr>\n",
              "      <th>Gender</th>\n",
              "      <td>-1.572449</td>\n",
              "    </tr>\n",
              "    <tr>\n",
              "      <th>Married</th>\n",
              "      <td>-0.608767</td>\n",
              "    </tr>\n",
              "    <tr>\n",
              "      <th>Dependent</th>\n",
              "      <td>1.103436</td>\n",
              "    </tr>\n",
              "    <tr>\n",
              "      <th>Graduate</th>\n",
              "      <td>1.392692</td>\n",
              "    </tr>\n",
              "    <tr>\n",
              "      <th>Self Employed</th>\n",
              "      <td>2.479892</td>\n",
              "    </tr>\n",
              "    <tr>\n",
              "      <th>Applicant Income</th>\n",
              "      <td>1.122113</td>\n",
              "    </tr>\n",
              "    <tr>\n",
              "      <th>Co applicant Income</th>\n",
              "      <td>0.843290</td>\n",
              "    </tr>\n",
              "    <tr>\n",
              "      <th>Loan Amount</th>\n",
              "      <td>0.408599</td>\n",
              "    </tr>\n",
              "    <tr>\n",
              "      <th>Loan Amount Term</th>\n",
              "      <td>0.000000</td>\n",
              "    </tr>\n",
              "    <tr>\n",
              "      <th>Credit History</th>\n",
              "      <td>0.000000</td>\n",
              "    </tr>\n",
              "    <tr>\n",
              "      <th>Property Area</th>\n",
              "      <td>0.036088</td>\n",
              "    </tr>\n",
              "    <tr>\n",
              "      <th>Loan Status</th>\n",
              "      <td>-1.572449</td>\n",
              "    </tr>\n",
              "  </tbody>\n",
              "</table>\n",
              "</div><br><label><b>dtype:</b> float64</label>"
            ]
          },
          "metadata": {},
          "execution_count": 102
        }
      ]
    },
    {
      "cell_type": "code",
      "source": [
        "sns.heatmap(df1.corr(), annot=True)"
      ],
      "metadata": {
        "colab": {
          "base_uri": "https://localhost:8080/",
          "height": 582
        },
        "id": "ohhXGTYWhcCu",
        "outputId": "78080477-6881-4401-8ea7-ed0b670c667c"
      },
      "execution_count": null,
      "outputs": [
        {
          "output_type": "execute_result",
          "data": {
            "text/plain": [
              "<Axes: >"
            ]
          },
          "metadata": {},
          "execution_count": 103
        },
        {
          "output_type": "display_data",
          "data": {
            "text/plain": [
              "<Figure size 640x480 with 2 Axes>"
            ],
            "image/png": "[encoded data removed]"
          },
          "metadata": {}
        }
      ]
    },
    {
      "cell_type": "markdown",
      "source": [
        "here we can see that all skewness is looks like perfect"
      ],
      "metadata": {
        "id": "_UQjuGAlhvAz"
      }
    },
    {
      "cell_type": "markdown",
      "source": [
        "Split the target features"
      ],
      "metadata": {
        "id": "sb0YjJM5iCvC"
      }
    },
    {
      "cell_type": "code",
      "source": [
        "#separating the independent and target variable into x and y\n",
        "x=df1.drop(['Loan Status'],axis=1)\n",
        "y=df1['Loan Status']\n",
        "print(\"feature dimentions=\",x.shape)\n",
        "print(\" label  dimentions=\",y.shape)\n"
      ],
      "metadata": {
        "colab": {
          "base_uri": "https://localhost:8080/"
        },
        "id": "BaNH083vhqRp",
        "outputId": "c4e61ac0-8537-46d5-cf96-bed1f8e95c1b"
      },
      "execution_count": null,
      "outputs": [
        {
          "output_type": "stream",
          "name": "stdout",
          "text": [
            "feature dimentions= (386, 11)\n",
            " label  dimentions= (386,)\n"
          ]
        }
      ]
    },
    {
      "cell_type": "code",
      "source": [
        "y.value_counts()"
      ],
      "metadata": {
        "colab": {
          "base_uri": "https://localhost:8080/",
          "height": 178
        },
        "id": "u5HZAWqAjJ-I",
        "outputId": "6c891f66-890a-408f-edad-793fcbea9c10"
      },
      "execution_count": null,
      "outputs": [
        {
          "output_type": "execute_result",
          "data": {
            "text/plain": [
              "Loan Status\n",
              "1    312\n",
              "0     74\n",
              "Name: count, dtype: int64"
            ],
            "text/html": [
              "<div>\n",
              "<style scoped>\n",
              "    .dataframe tbody tr th:only-of-type {\n",
              "        vertical-align: middle;\n",
              "    }\n",
              "\n",
              "    .dataframe tbody tr th {\n",
              "        vertical-align: top;\n",
              "    }\n",
              "\n",
              "    .dataframe thead th {\n",
              "        text-align: right;\n",
              "    }\n",
              "</style>\n",
              "<table border=\"1\" class=\"dataframe\">\n",
              "  <thead>\n",
              "    <tr style=\"text-align: right;\">\n",
              "      <th></th>\n",
              "      <th>count</th>\n",
              "    </tr>\n",
              "    <tr>\n",
              "      <th>Loan Status</th>\n",
              "      <th></th>\n",
              "    </tr>\n",
              "  </thead>\n",
              "  <tbody>\n",
              "    <tr>\n",
              "      <th>1</th>\n",
              "      <td>312</td>\n",
              "    </tr>\n",
              "    <tr>\n",
              "      <th>0</th>\n",
              "      <td>74</td>\n",
              "    </tr>\n",
              "  </tbody>\n",
              "</table>\n",
              "</div><br><label><b>dtype:</b> int64</label>"
            ]
          },
          "metadata": {},
          "execution_count": 105
        }
      ]
    },
    {
      "cell_type": "code",
      "source": [
        "from imblearn.over_sampling import SMOTE\n",
        "smote = SMOTE(k_neighbors=4)\n",
        "x1, y1 = smote.fit_resample(x, y)\n",
        "y1.value_counts()"
      ],
      "metadata": {
        "colab": {
          "base_uri": "https://localhost:8080/",
          "height": 178
        },
        "id": "KXKWlLwak-pn",
        "outputId": "eea94c68-1060-42de-b970-f8a7d5638b25"
      },
      "execution_count": null,
      "outputs": [
        {
          "output_type": "execute_result",
          "data": {
            "text/plain": [
              "Loan Status\n",
              "0    312\n",
              "1    312\n",
              "Name: count, dtype: int64"
            ],
            "text/html": [
              "<div>\n",
              "<style scoped>\n",
              "    .dataframe tbody tr th:only-of-type {\n",
              "        vertical-align: middle;\n",
              "    }\n",
              "\n",
              "    .dataframe tbody tr th {\n",
              "        vertical-align: top;\n",
              "    }\n",
              "\n",
              "    .dataframe thead th {\n",
              "        text-align: right;\n",
              "    }\n",
              "</style>\n",
              "<table border=\"1\" class=\"dataframe\">\n",
              "  <thead>\n",
              "    <tr style=\"text-align: right;\">\n",
              "      <th></th>\n",
              "      <th>count</th>\n",
              "    </tr>\n",
              "    <tr>\n",
              "      <th>Loan Status</th>\n",
              "      <th></th>\n",
              "    </tr>\n",
              "  </thead>\n",
              "  <tbody>\n",
              "    <tr>\n",
              "      <th>0</th>\n",
              "      <td>312</td>\n",
              "    </tr>\n",
              "    <tr>\n",
              "      <th>1</th>\n",
              "      <td>312</td>\n",
              "    </tr>\n",
              "  </tbody>\n",
              "</table>\n",
              "</div><br><label><b>dtype:</b> int64</label>"
            ]
          },
          "metadata": {},
          "execution_count": 106
        }
      ]
    },
    {
      "cell_type": "markdown",
      "source": [
        "# now y value is same"
      ],
      "metadata": {
        "id": "BrYeKAUljpN1"
      }
    },
    {
      "cell_type": "markdown",
      "source": [
        "# Classification algorithm"
      ],
      "metadata": {
        "id": "vUdk49Bkjvnc"
      }
    },
    {
      "cell_type": "code",
      "source": [
        "from sklearn.ensemble import RandomForestClassifier ,ExtraTreesClassifier,GradientBoostingClassifier,BaggingClassifier,AdaBoostClassifier\n",
        "from sklearn.linear_model  import LogisticRegression\n",
        "from sklearn.svm import SVC\n",
        "from sklearn.linear_model import LogisticRegression\n",
        "from sklearn.metrics import classification_report, confusion_matrix, roc_curve, accuracy_score\n",
        "from sklearn.model_selection import cross_val_score"
      ],
      "metadata": {
        "id": "ferYGsxHmV_w"
      },
      "execution_count": null,
      "outputs": []
    },
    {
      "cell_type": "code",
      "source": [
        "#finding the best random state\n",
        "from sklearn.model_selection import train_test_split\n",
        "from sklearn.ensemble import RandomForestClassifier\n",
        "from sklearn.metrics import accuracy_score\n",
        "maxAccu=0\n",
        "maxRS=0\n",
        "for i in range(1,50):\n",
        "  x_train,x_test,y_train,y_test=train_test_split(x1,y1,test_size=.30,random_state=i)\n",
        "  RFR=RandomForestClassifier()\n",
        "  RFR.fit(x_train,y_train)\n",
        "  #making prediction on the test set\n",
        "  predrf=RFR.predict(x_test)\n",
        "  acc=accuracy_score(y_test,predrf)\n",
        "  if acc>maxAccu:\n",
        "    maxAccu=acc\n",
        "    maxRS=i\n",
        "print(\"best accuracy is\",maxAccu,\"on Random state\",maxRS)"
      ],
      "metadata": {
        "colab": {
          "base_uri": "https://localhost:8080/"
        },
        "id": "Tnsh5JB1qPJH",
        "outputId": "902b191f-32ad-4d09-842f-2dcea5d4020e"
      },
      "execution_count": null,
      "outputs": [
        {
          "output_type": "stream",
          "name": "stdout",
          "text": [
            "best accuracy is 0.8404255319148937 on Random state 12\n"
          ]
        }
      ]
    },
    {
      "cell_type": "markdown",
      "source": [
        "here we can see that almost 85% accuracy from where random state is 40"
      ],
      "metadata": {
        "id": "2ykb98gEpuYj"
      }
    },
    {
      "cell_type": "markdown",
      "source": [
        "creating train test split"
      ],
      "metadata": {
        "id": "VL_XqZU4qDi5"
      }
    },
    {
      "cell_type": "code",
      "source": [
        "#split data into training and testing sets\n",
        "x_train, x_test, y_train,y_test = train_test_split(x1,y1,test_size=.30,random_state=maxRS)"
      ],
      "metadata": {
        "id": "I9EPGUn9qBPO"
      },
      "execution_count": null,
      "outputs": []
    },
    {
      "cell_type": "markdown",
      "source": [
        "Random Forest Classifier"
      ],
      "metadata": {
        "id": "NMg0QtVPq_dB"
      }
    },
    {
      "cell_type": "code",
      "source": [
        "#instantiate and train RandomForestClassifier\n",
        "rf=RandomForestClassifier()\n",
        "rf.fit(x_train,y_train)\n",
        "#making prediction on the test set\n",
        "predrf=rf.predict(x_test)\n",
        "#calculate accuracy\n",
        "acc=accuracy_score(y_test, predrf)\n",
        "print(\"accuracy is\",acc)\n",
        "#generate confusion matrix\n",
        "conf_matrix=confusion_matrix(y_test,predrf)\n",
        "print(\"confusion matrix is\",conf_matrix)\n",
        "#generate classification report\n",
        "report=classification_report(y_test,predrf)\n",
        "print(\"classification report is\",report)\n"
      ],
      "metadata": {
        "colab": {
          "base_uri": "https://localhost:8080/"
        },
        "id": "H1LjM_uzrIeZ",
        "outputId": "5a579d44-d47d-4c75-dceb-5a5491c11bf7"
      },
      "execution_count": null,
      "outputs": [
        {
          "output_type": "stream",
          "name": "stdout",
          "text": [
            "accuracy is 0.8191489361702128\n",
            "confusion matrix is [[86 11]\n",
            " [23 68]]\n",
            "classification report is               precision    recall  f1-score   support\n",
            "\n",
            "           0       0.79      0.89      0.83        97\n",
            "           1       0.86      0.75      0.80        91\n",
            "\n",
            "    accuracy                           0.82       188\n",
            "   macro avg       0.82      0.82      0.82       188\n",
            "weighted avg       0.82      0.82      0.82       188\n",
            "\n"
          ]
        }
      ]
    },
    {
      "cell_type": "markdown",
      "source": [
        "# Support Vector Machine Classifier"
      ],
      "metadata": {
        "id": "wa_Z5hpNs42l"
      }
    },
    {
      "cell_type": "code",
      "source": [
        "#checking accuracy for support vector machine classifier\n",
        "svc = SVC()\n",
        "svc.fit(x_train, y_train)\n",
        "#making prediction on the test set\n",
        "predsvc=svc.predict(x_test)\n",
        "#calculate accuracy\n",
        "acc=accuracy_score(y_test, predsvc)\n",
        "print(\"accuracy is\",acc)\n",
        "\n",
        "#generate confusion matrix\n",
        "conf_matrix=confusion_matrix(y_test,predsvc)\n",
        "print(\"confusion matrix is\",conf_matrix)\n",
        "#generate classification report\n",
        "report=classification_report(y_test,predsvc)\n",
        "print(\"classification report is\",report)"
      ],
      "metadata": {
        "colab": {
          "base_uri": "https://localhost:8080/"
        },
        "id": "wOgZSichs4hB",
        "outputId": "b72fa033-a647-4e5f-a154-e68f005ce7de"
      },
      "execution_count": null,
      "outputs": [
        {
          "output_type": "stream",
          "name": "stdout",
          "text": [
            "accuracy is 0.5531914893617021\n",
            "confusion matrix is [[55 42]\n",
            " [42 49]]\n",
            "classification report is               precision    recall  f1-score   support\n",
            "\n",
            "           0       0.57      0.57      0.57        97\n",
            "           1       0.54      0.54      0.54        91\n",
            "\n",
            "    accuracy                           0.55       188\n",
            "   macro avg       0.55      0.55      0.55       188\n",
            "weighted avg       0.55      0.55      0.55       188\n",
            "\n"
          ]
        }
      ]
    },
    {
      "cell_type": "markdown",
      "source": [
        "# Gradient Boosting Classifier"
      ],
      "metadata": {
        "id": "WcPx6J3JuqhI"
      }
    },
    {
      "cell_type": "code",
      "source": [
        "#checking accuracy for Gradientboostingclassifier\n",
        "gbc = GradientBoostingClassifier()\n",
        "gbc.fit(x_train, y_train)\n",
        "#making prediction on the test set\n",
        "predgbc=gbc.predict(x_test)\n",
        "#calculate accuracy\n",
        "acc=accuracy_score(y_test, predgbc)\n",
        "print(\"accuracy is\",acc)\n",
        "\n",
        "#generate confusion matrix\n",
        "conf_matrix=confusion_matrix(y_test,predgbc)\n",
        "print(\"confusion matrix is\",conf_matrix)\n",
        "#generate classification report\n",
        "report=classification_report(y_test,predgbc)\n",
        "print(\"classification report is\",report)\n"
      ],
      "metadata": {
        "colab": {
          "base_uri": "https://localhost:8080/"
        },
        "id": "4Q3tKSnquxvU",
        "outputId": "c518d272-aef5-4144-a2a4-9a8895a3df27"
      },
      "execution_count": null,
      "outputs": [
        {
          "output_type": "stream",
          "name": "stdout",
          "text": [
            "accuracy is 0.7872340425531915\n",
            "confusion matrix is [[84 13]\n",
            " [27 64]]\n",
            "classification report is               precision    recall  f1-score   support\n",
            "\n",
            "           0       0.76      0.87      0.81        97\n",
            "           1       0.83      0.70      0.76        91\n",
            "\n",
            "    accuracy                           0.79       188\n",
            "   macro avg       0.79      0.78      0.78       188\n",
            "weighted avg       0.79      0.79      0.79       188\n",
            "\n"
          ]
        }
      ]
    },
    {
      "cell_type": "markdown",
      "source": [
        "ada boost classifier\n"
      ],
      "metadata": {
        "id": "oNDAcf6_veju"
      }
    },
    {
      "cell_type": "code",
      "source": [
        "#checking accuracy for adaboostclassifier\n",
        "ab=AdaBoostClassifier()\n",
        "ab.fit(x_train, y_train)\n",
        "#making prediction on the test set\n",
        "predab=ab.predict(x_test)\n",
        "#calculate accuracy\n",
        "acc=accuracy_score(y_test, predab)\n",
        "print(\"accuracy is\",acc)\n",
        "\n",
        "#generate confusion matrix\n",
        "conf_matrix=confusion_matrix(y_test,predab)\n",
        "print(\"confusion matrix is\",conf_matrix)\n",
        "#generate classification report\n",
        "report=classification_report(y_test,predab)\n",
        "print(\"classification report is\",report)\n"
      ],
      "metadata": {
        "colab": {
          "base_uri": "https://localhost:8080/"
        },
        "id": "ziOnGvdXvjlY",
        "outputId": "369a4ea6-cd9a-4457-f564-fe744dfa5752"
      },
      "execution_count": null,
      "outputs": [
        {
          "output_type": "stream",
          "name": "stdout",
          "text": [
            "accuracy is 0.7287234042553191\n",
            "confusion matrix is [[72 25]\n",
            " [26 65]]\n",
            "classification report is               precision    recall  f1-score   support\n",
            "\n",
            "           0       0.73      0.74      0.74        97\n",
            "           1       0.72      0.71      0.72        91\n",
            "\n",
            "    accuracy                           0.73       188\n",
            "   macro avg       0.73      0.73      0.73       188\n",
            "weighted avg       0.73      0.73      0.73       188\n",
            "\n"
          ]
        }
      ]
    },
    {
      "cell_type": "markdown",
      "source": [
        "extra trees classifier\n"
      ],
      "metadata": {
        "id": "47aIaMdbw_8F"
      }
    },
    {
      "cell_type": "code",
      "source": [
        "#checking accuracy for the Extatreesclassfier\n",
        "etc=ExtraTreesClassifier()\n",
        "etc.fit(x_train, y_train)\n",
        "predet = etc.predict(x_test)\n",
        "#calculate accuracy\n",
        "acc=accuracy_score(y_test, predet)\n",
        "print(\"accuracy is\",acc)\n",
        "#generate confusion matrix\n",
        "conf_matrix=confusion_matrix(y_test,predet)\n",
        "print(\"confusion matrix is\",conf_matrix)\n",
        "#generate classification report\n",
        "report=classification_report(y_test,predet)\n",
        "print(\"classification report is\",report)"
      ],
      "metadata": {
        "colab": {
          "base_uri": "https://localhost:8080/"
        },
        "id": "4SzGz7jrxF32",
        "outputId": "9224f7c0-32a0-4817-f5e5-3dca95b4041e"
      },
      "execution_count": null,
      "outputs": [
        {
          "output_type": "stream",
          "name": "stdout",
          "text": [
            "accuracy is 0.8085106382978723\n",
            "confusion matrix is [[84 13]\n",
            " [23 68]]\n",
            "classification report is               precision    recall  f1-score   support\n",
            "\n",
            "           0       0.79      0.87      0.82        97\n",
            "           1       0.84      0.75      0.79        91\n",
            "\n",
            "    accuracy                           0.81       188\n",
            "   macro avg       0.81      0.81      0.81       188\n",
            "weighted avg       0.81      0.81      0.81       188\n",
            "\n"
          ]
        }
      ]
    },
    {
      "cell_type": "markdown",
      "source": [
        "after checking each algorithm ,it was found that random forest classifier is the best algo\n",
        "\n"
      ],
      "metadata": {
        "id": "4KqpA5A-yeBt"
      }
    },
    {
      "cell_type": "markdown",
      "source": [
        "now we find best hyper parameter"
      ],
      "metadata": {
        "id": "Gv1Vb6tOyw2F"
      }
    },
    {
      "cell_type": "markdown",
      "source": [
        "# Hyper parameter Tuning"
      ],
      "metadata": {
        "id": "EzruHBvAy559"
      }
    },
    {
      "cell_type": "code",
      "source": [
        "from sklearn.ensemble import RandomForestClassifier\n",
        "from sklearn.model_selection import GridSearchCV\n",
        "#define the model\n",
        "rf = RandomForestClassifier()\n",
        "#define the parameter grid\n",
        "param_grid = {\n",
        "    'n_estimators': [100,200,300],\n",
        "    'max_depth': [None, 10, 20,30],\n",
        "    'min_samples_split': [2, 5, 10],\n",
        "    'min_samples_leaf': [1, 2, 4],\n",
        "    'max_features': ['auto', 'sqrt', 'log2'],\n",
        "    'bootstrap': [True, False]\n",
        "}\n",
        "#create the grid search object\n",
        "grid_search = GridSearchCV(estimator=rf, param_grid=param_grid, cv=5, n_jobs=-1, verbose=2)\n",
        "#fit the model\n",
        "grid_search.fit(x_train, y_train) # This line was moved before accessing best_params_ and best_estimator_\n",
        "#print the best parameters\n",
        "best_params=grid_search.best_params_ # This line was moved after fitting the model\n",
        "print(\"Best parameters: \",best_params)\n",
        "#print the best score\n",
        "best_model= grid_search.best_estimator_ # This line was moved after fitting the model\n",
        "print(\"Best model: \", best_model)\n"
      ],
      "metadata": {
        "id": "iGm-UH7cy4HE",
        "colab": {
          "base_uri": "https://localhost:8080/"
        },
        "outputId": "e6a0ce2c-d116-433b-c91c-700d721bcc2f"
      },
      "execution_count": null,
      "outputs": [
        {
          "output_type": "stream",
          "name": "stdout",
          "text": [
            "Fitting 5 folds for each of 648 candidates, totalling 3240 fits\n",
            "Best parameters:  {'bootstrap': False, 'max_depth': None, 'max_features': 'sqrt', 'min_samples_leaf': 1, 'min_samples_split': 5, 'n_estimators': 200}\n",
            "Best model:  RandomForestClassifier(bootstrap=False, min_samples_split=5, n_estimators=200)\n"
          ]
        }
      ]
    },
    {
      "cell_type": "code",
      "source": [
        "import pickle\n",
        "#define the model\n",
        "model=RandomForestClassifier(n_estimators=200,min_samples_split=2,min_samples_leaf=1,max_features='log2',max_depth=None,bootstrap=False)\n",
        "#train the model\n",
        "model.fit(x_train,y_train)\n",
        "#save the model to disk\n",
        "with open(\"Loan_application_status.pkl\",'wb') as file:\n",
        "  pickle.dump(model,file)\n"
      ],
      "metadata": {
        "id": "-PkgbyOU0yRN"
      },
      "execution_count": null,
      "outputs": []
    },
    {
      "cell_type": "code",
      "source": [
        "#open the model\n",
        "with open(\"Loan_application_status.pkl\",'rb') as file:\n",
        "  load_model=pickle.load(file)\n",
        "  #ensure that the model is fitted before calling score\n",
        "  if hasattr(load_model, \"fit\"):\n",
        "    #evaluate the model on test data\n",
        "    result = load_model.score(x_test,y_test)\n",
        "    print(result *100)\n",
        "  else:\n",
        "      print(\"Model is not fitted.\")"
      ],
      "metadata": {
        "colab": {
          "base_uri": "https://localhost:8080/"
        },
        "id": "b7sczi5lObKL",
        "outputId": "e2ff734d-0e59-4961-e7ae-a2f6158a6a43"
      },
      "execution_count": null,
      "outputs": [
        {
          "output_type": "stream",
          "name": "stdout",
          "text": [
            "86.17021276595744\n"
          ]
        }
      ]
    },
    {
      "cell_type": "markdown",
      "source": [
        "# make the diagram to pridict loan status"
      ],
      "metadata": {
        "id": "AQFzAwn1Qx4l"
      }
    },
    {
      "cell_type": "code",
      "source": [
        "import joblib\n",
        "#define the mapping dictionaries\n",
        "Gender_mapping = {'Female': 0, 'Male': 1}\n",
        "Married_mapping = {'No': 0, 'Yes': 1}\n",
        "Dependents_mapping = {0: 0, 1: 1, 2: 2, 3: 3}\n",
        "Graduate_mapping = {' Not Graduate': 0, 'Graduate': 1}\n",
        "Self_Employed_mapping = {'No': 0, 'Yes': 1}\n",
        "Property_Area_mapping = {'Rural': 0, 'Semiurban': 1, 'Urban': 2}\n",
        "Loan_Status_mapping = {'Rejected': 0, 'Approved': 1}\n",
        "#define the input data (characteristics)\n",
        "input_data = [\"Male\",\t\"No\"\t,0,\t\"Graduate\",\t\"No\",\t6000,\t0.0\t,141.0\t,360.0,\t1.0,\t\"Urban\"]\n",
        "#map the input data\n",
        "input_data_numerical = [\n",
        "    Gender_mapping[input_data[0]],\n",
        "    Married_mapping[input_data[1]],\n",
        "    Dependents_mapping[int(input_data[2])],\n",
        "    Graduate_mapping[input_data[3]],\n",
        "    Self_Employed_mapping[input_data[4]],\n",
        "    input_data[5],\n",
        "    input_data[6],\n",
        "    input_data[7],\n",
        "    input_data[8],\n",
        "    input_data[9],\n",
        "    Property_Area_mapping[input_data[10]]\n",
        "]\n",
        "#load your trained model\n",
        "model=joblib.load(\"Loan_application_status.pkl\")\n",
        "#make the prediction using the trained model\n",
        "prediction = model.predict([input_data_numerical])\n",
        "#print the input data and pridicted Loan Status\n",
        "print(\"Input Data:\", input_data_numerical)\n",
        "print(\"Predicted Loan Status:\", prediction)\n"
      ],
      "metadata": {
        "colab": {
          "base_uri": "https://localhost:8080/"
        },
        "id": "hohwo-TTQ7do",
        "outputId": "2439dc08-b46f-41c9-b547-238f3b7c5da8"
      },
      "execution_count": null,
      "outputs": [
        {
          "output_type": "stream",
          "name": "stdout",
          "text": [
            "Input Data: [1, 0, 0, 1, 0, 6000, 0.0, 141.0, 360.0, 1.0, 2]\n",
            "Predicted Loan Status: [1]\n"
          ]
        }
      ]
    },
    {
      "cell_type": "code",
      "source": [
        "if prediction[0] == 0:\n",
        "    print(\"Loan Status: Rejected\")\n",
        "else:\n",
        "    print(\"Loan Status: Approved\")"
      ],
      "metadata": {
        "colab": {
          "base_uri": "https://localhost:8080/"
        },
        "id": "9dRx3ZiaR04p",
        "outputId": "043f8372-bdff-42ab-9d62-a804a68c7a58"
      },
      "execution_count": null,
      "outputs": [
        {
          "output_type": "stream",
          "name": "stdout",
          "text": [
            "Loan Status: Approved\n"
          ]
        }
      ]
    },
    {
      "cell_type": "markdown",
      "source": [
        "# thank you"
      ],
      "metadata": {
        "id": "2o452hzyT9CG"
      }
    }
  ]
}